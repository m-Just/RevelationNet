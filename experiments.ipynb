{
 "cells": [
  {
   "cell_type": "code",
   "execution_count": 1,
   "metadata": {},
   "outputs": [
    {
     "name": "stderr",
     "output_type": "stream",
     "text": [
      "/anaconda/envs/py35/lib/python3.5/site-packages/h5py/__init__.py:36: FutureWarning: Conversion of the second argument of issubdtype from `float` to `np.floating` is deprecated. In future, it will be treated as `np.float64 == np.dtype(float).type`.\n",
      "  from ._conv import register_converters as _register_converters\n"
     ]
    },
    {
     "name": "stdout",
     "output_type": "stream",
     "text": [
      "WARNING:tensorflow:From /home/pdimage/notebooks/kyle/adversarial_backtracking/model.py:72: calling reduce_sum (from tensorflow.python.ops.math_ops) with keep_dims is deprecated and will be removed in a future version.\n",
      "Instructions for updating:\n",
      "keep_dims is deprecated, use keepdims instead\n",
      "INFO:tensorflow:Restoring parameters from ./pretrained/model\n"
     ]
    },
    {
     "name": "stderr",
     "output_type": "stream",
     "text": [
      "Using TensorFlow backend.\n"
     ]
    },
    {
     "name": "stdout",
     "output_type": "stream",
     "text": [
      "base accuracy of the target model on normal images: 0.8341\n"
     ]
    }
   ],
   "source": [
    "import tensorflow as tf\n",
    "from model import make_simple_cnn, make_resnet\n",
    "from cleverhans.utils_tf import tf_model_load, model_eval\n",
    "from utilities import *\n",
    "\n",
    "tf.reset_default_graph()\n",
    "model = make_simple_cnn()\n",
    "\n",
    "# make sure the target model is working\n",
    "sess = tf.Session()\n",
    "tf_model_load(sess, file_path='./pretrained/model')\n",
    "\n",
    "x = tf.placeholder(tf.float32,[None,32,32,3])\n",
    "y = tf.placeholder(tf.float32,[None,10])\n",
    "from utilities import validate_model\n",
    "(x_train,y_train), (x_test,y_test) = data_cifar10()\n",
    "validate_model(sess,x,y,model)\n",
    "x_filtered,y_filtered = filter_data(sess, x, y, model, x_test, y_test, target = None)"
   ]
  },
  {
   "cell_type": "code",
   "execution_count": 2,
   "metadata": {},
   "outputs": [
    {
     "name": "stdout",
     "output_type": "stream",
     "text": [
      "(1280, 32, 32, 3)\n"
     ]
    }
   ],
   "source": [
    "print(x_filtered.shape)"
   ]
  },
  {
   "cell_type": "code",
   "execution_count": 3,
   "metadata": {},
   "outputs": [
    {
     "name": "stdout",
     "output_type": "stream",
     "text": [
      "WARNING:tensorflow:From /anaconda/envs/py35/lib/python3.5/site-packages/cleverhans/attacks.py:390: calling reduce_max (from tensorflow.python.ops.math_ops) with keep_dims is deprecated and will be removed in a future version.\n",
      "Instructions for updating:\n",
      "keep_dims is deprecated, use keepdims instead\n",
      "WARNING:tensorflow:From /anaconda/envs/py35/lib/python3.5/site-packages/cleverhans/utils_tf.py:37: softmax_cross_entropy_with_logits (from tensorflow.python.ops.nn_ops) is deprecated and will be removed in a future version.\n",
      "Instructions for updating:\n",
      "\n",
      "Future major versions of TensorFlow will allow gradients to flow\n",
      "into the labels input on backprop by default.\n",
      "\n",
      "See tf.nn.softmax_cross_entropy_with_logits_v2.\n",
      "\n"
     ]
    }
   ],
   "source": [
    "target = None\n",
    "adv_imgs = attack_classifier(sess, x, y, model, x_filtered, y_filtered, attack_method = \"basic_iterative\", target = target)"
   ]
  },
  {
   "cell_type": "code",
   "execution_count": 4,
   "metadata": {},
   "outputs": [
    {
     "name": "stdout",
     "output_type": "stream",
     "text": [
      "(1280, 32, 32, 3)\n"
     ]
    }
   ],
   "source": [
    "print(adv_imgs.shape)"
   ]
  },
  {
   "cell_type": "code",
   "execution_count": 5,
   "metadata": {},
   "outputs": [],
   "source": [
    "params = {'eps':8/255,\n",
    "          'eps_iter':1/255,\n",
    "          'nb_iter': 10,\n",
    "          'clip_min': 0.,\n",
    "          'clip_max': 1.\n",
    "}\n",
    "steps = attack_with_step_recorded(sess,x,y,model,x_filtered,y_filtered, params, batch_size = 128)"
   ]
  },
  {
   "cell_type": "code",
   "execution_count": 8,
   "metadata": {},
   "outputs": [],
   "source": [
    "dist = []\n",
    "for i in range(len(steps)):\n",
    "    dist.append(np.absolute(steps[i]-steps[-1]))"
   ]
  },
  {
   "cell_type": "code",
   "execution_count": 32,
   "metadata": {},
   "outputs": [
    {
     "name": "stdout",
     "output_type": "stream",
     "text": [
      "[4013, 633, 0, 0, 0, 0, 0, 0, 0, 0]\n"
     ]
    }
   ],
   "source": [
    "count = []\n",
    "for i in range(len(steps)):\n",
    "    c = 0\n",
    "    for each in dist[i].flatten():\n",
    "        if each > 8/255:\n",
    "            c+= 1\n",
    "    count.append(c)\n",
    "print(count)"
   ]
  },
  {
   "cell_type": "code",
   "execution_count": 35,
   "metadata": {},
   "outputs": [
    {
     "data": {
      "text/plain": [
       "array([0.00102056, 0.00016098, 0.        , 0.        , 0.        ,\n",
       "       0.        , 0.        , 0.        , 0.        , 0.        ])"
      ]
     },
     "execution_count": 35,
     "metadata": {},
     "output_type": "execute_result"
    }
   ],
   "source": [
    "np.array(count)/(3*32*32 * 1280 )"
   ]
  },
  {
   "cell_type": "code",
   "execution_count": 5,
   "metadata": {},
   "outputs": [
    {
     "name": "stdout",
     "output_type": "stream",
     "text": [
      "Success rate of non target attacks: 0.9867187\n",
      "\n"
     ]
    }
   ],
   "source": [
    "from utilities import model_eval_adv\n",
    "model_eval_adv(sess,x,y,model,adv_imgs,y_filtered, target = target)"
   ]
  },
  {
   "cell_type": "code",
   "execution_count": 35,
   "metadata": {},
   "outputs": [
    {
     "name": "stdout",
     "output_type": "stream",
     "text": [
      "original prob: 8\n",
      "adv prob: 1\n",
      "[6.02343750e-02 4.81250000e-01 3.58593750e-02 3.90625000e-04\n",
      " 3.18750000e-02 0.00000000e+00 8.67968750e-02 6.25000000e-04\n",
      " 2.35156250e-02 2.79453125e-01]\n",
      "[1 9 6 0 2 4 8 7 3 5]\n",
      "[4.81250000e-01 2.79453125e-01 8.67968750e-02 6.02343750e-02\n",
      " 3.58593750e-02 3.18750000e-02 2.35156250e-02 6.25000000e-04\n",
      " 3.90625000e-04 0.00000000e+00]\n"
     ]
    }
   ],
   "source": [
    "i_th = 1\n",
    "print(\"original prob:\",np.argmax(predict(sess,x,model,np.array(x_test))[i_th]))\n",
    "print(\"adv prob:\",np.argmax(predict(sess,x,model,np.array(adv_imgs))[i_th]))\n",
    "num_sample = 12800\n",
    "samples = []\n",
    "for i in range(num_sample):\n",
    "    samples.append(np.random.normal(adv_imgs[i_th], x_test[i_th]))\n",
    "probs = predict(sess,x,model,np.array(samples))\n",
    "indices = np.argmax(probs, axis = 1)\n",
    "percent = np.array([0 for _ in range(10)])\n",
    "for each in indices:\n",
    "    percent[each] += 1\n",
    "percent = percent/num_sample\n",
    "print(percent)\n",
    "print(np.flip(np.argsort(percent), axis = 0))\n",
    "print(np.flip(np.sort(percent), axis= 0))"
   ]
  },
  {
   "cell_type": "code",
   "execution_count": 26,
   "metadata": {},
   "outputs": [
    {
     "ename": "TypeError",
     "evalue": "unsupported operand type(s) for +: 'NoneType' and 'int'",
     "output_type": "error",
     "traceback": [
      "\u001b[0;31m---------------------------------------------------------------------------\u001b[0m",
      "\u001b[0;31mTypeError\u001b[0m                                 Traceback (most recent call last)",
      "\u001b[0;32m<ipython-input-26-e2c6b6f97e8d>\u001b[0m in \u001b[0;36m<module>\u001b[0;34m()\u001b[0m\n\u001b[1;32m      1\u001b[0m \u001b[0;32mfrom\u001b[0m \u001b[0mutilities\u001b[0m \u001b[0;32mimport\u001b[0m \u001b[0mbacktracking\u001b[0m\u001b[0;34m\u001b[0m\u001b[0m\n\u001b[1;32m      2\u001b[0m \u001b[0mbatch_size\u001b[0m \u001b[0;34m=\u001b[0m \u001b[0;36m128\u001b[0m\u001b[0;34m\u001b[0m\u001b[0m\n\u001b[0;32m----> 3\u001b[0;31m \u001b[0my_\u001b[0m \u001b[0;34m=\u001b[0m \u001b[0mtf\u001b[0m\u001b[0;34m.\u001b[0m\u001b[0mconstant\u001b[0m\u001b[0;34m(\u001b[0m\u001b[0mnp\u001b[0m\u001b[0;34m.\u001b[0m\u001b[0mrepeat\u001b[0m\u001b[0;34m(\u001b[0m\u001b[0mnp\u001b[0m\u001b[0;34m.\u001b[0m\u001b[0meye\u001b[0m\u001b[0;34m(\u001b[0m\u001b[0;36m10\u001b[0m\u001b[0;34m)\u001b[0m\u001b[0;34m[\u001b[0m\u001b[0mtarget\u001b[0m\u001b[0;34m:\u001b[0m\u001b[0mtarget\u001b[0m\u001b[0;34m+\u001b[0m\u001b[0;36m1\u001b[0m\u001b[0;34m]\u001b[0m\u001b[0;34m,\u001b[0m \u001b[0mbatch_size\u001b[0m\u001b[0;34m,\u001b[0m \u001b[0maxis\u001b[0m \u001b[0;34m=\u001b[0m \u001b[0;36m0\u001b[0m\u001b[0;34m)\u001b[0m\u001b[0;34m)\u001b[0m\u001b[0;34m\u001b[0m\u001b[0m\n\u001b[0m\u001b[1;32m      4\u001b[0m params = {'eps':8/255,\n\u001b[1;32m      5\u001b[0m           \u001b[0;34m'eps_iter'\u001b[0m\u001b[0;34m:\u001b[0m\u001b[0;36m1\u001b[0m\u001b[0;34m/\u001b[0m\u001b[0;36m255\u001b[0m\u001b[0;34m/\u001b[0m\u001b[0;36m10\u001b[0m\u001b[0;34m,\u001b[0m\u001b[0;34m\u001b[0m\u001b[0m\n",
      "\u001b[0;31mTypeError\u001b[0m: unsupported operand type(s) for +: 'NoneType' and 'int'"
     ]
    }
   ],
   "source": [
    "from utilities import backtracking\n",
    "batch_size = 128\n",
    "y_ = tf.constant(np.repeat(np.eye(10)[target:target+1], batch_size, axis = 0))\n",
    "params = {'eps':8/255,\n",
    "          'eps_iter':1/255/10,\n",
    "          'nb_iter': 100,\n",
    "          'y':y_,\n",
    "          'clip_min': 0.,\n",
    "          'clip_max': 1.\n",
    "}\n",
    "imgs = backtracking(sess, x, y, model, adv_imgs, y_filtered, params, batch_size = batch_size)\n",
    "model_eval(sess, x, y_, model.get_probs(x), X_test=imgs, Y_test=y_filtered, args={\"batch_size\":batch_size})"
   ]
  },
  {
   "cell_type": "code",
   "execution_count": null,
   "metadata": {},
   "outputs": [],
   "source": [
    "predict(sess,x,model,x_filtered)"
   ]
  },
  {
   "cell_type": "code",
   "execution_count": 63,
   "metadata": {},
   "outputs": [
    {
     "name": "stdout",
     "output_type": "stream",
     "text": [
      "0.018957047\n"
     ]
    }
   ],
   "source": [
    "print(np.mean(np.mean(np.absolute(x_filtered - imgs), axis = 0)))"
   ]
  },
  {
   "cell_type": "code",
   "execution_count": 64,
   "metadata": {},
   "outputs": [
    {
     "name": "stdout",
     "output_type": "stream",
     "text": [
      "0.002217048\n"
     ]
    }
   ],
   "source": [
    "print(np.mean(np.mean(np.absolute(x_filtered - adv_imgs), axis = 0)))"
   ]
  },
  {
   "cell_type": "code",
   "execution_count": 65,
   "metadata": {},
   "outputs": [
    {
     "name": "stdout",
     "output_type": "stream",
     "text": [
      "0.020316975\n"
     ]
    }
   ],
   "source": [
    "print(np.mean(np.mean(np.absolute(adv_imgs - imgs), axis = 0)))"
   ]
  },
  {
   "cell_type": "code",
   "execution_count": 6,
   "metadata": {},
   "outputs": [
    {
     "name": "stdout",
     "output_type": "stream",
     "text": [
      "y_probs before: 1.0\n",
      "recovery_rate: 0.17421875\n",
      "y_probs: 0.04453125\n"
     ]
    }
   ],
   "source": [
    "from utilities import backtracking, backtracking_with_gaussian\n",
    "batch_size = 128\n",
    "params = {'eps':8/255,\n",
    "          'eps_iter':1/255,\n",
    "          'nb_iter': 10,\n",
    "          'y':y,\n",
    "          'clip_min': 0.,\n",
    "          'clip_max': 1.\n",
    "}\n",
    "y_probs = np.zeros([adv_imgs.shape[0],10])\n",
    "idx = np.argmax(predict(sess,x,model,adv_imgs), axis = 1)\n",
    "for i in range(y_probs.shape[0]):\n",
    "    y_probs[i][idx[i]] = 1\n",
    "\n",
    "imgs = adv_imgs\n",
    "#imgs = np.clip(adv_imgs + ((np.random.uniform(size = (1280, 32, 32, 3)) >= 0.5) - 0.5) * 1 / 255 * 4, a_min = 0, a_max = 1)\n",
    "print(\"y_probs before:\",model_eval(sess, x, y, model.get_probs(x), X_test=imgs, Y_test=y_probs, args={\"batch_size\":batch_size}))\n",
    "imgs = backtracking_with_gaussian(sess, x, y, model, imgs, y_probs, params, batch_size = batch_size)\n",
    "\n",
    "print(\"recovery_rate:\",model_eval(sess, x, y, model.get_probs(x), X_test=imgs, Y_test=y_filtered, args={\"batch_size\":batch_size}))\n",
    "print(\"y_probs:\",model_eval(sess, x, y, model.get_probs(x), X_test=imgs, Y_test=y_probs, args={\"batch_size\":batch_size}))"
   ]
  },
  {
   "cell_type": "code",
   "execution_count": 10,
   "metadata": {},
   "outputs": [
    {
     "data": {
      "text/plain": [
       "0.03359375"
      ]
     },
     "execution_count": 10,
     "metadata": {},
     "output_type": "execute_result"
    }
   ],
   "source": [
    "y_probs = np.zeros([adv_imgs.shape[0],10])\n",
    "idx = np.argmax(predict(sess,x,model,adv_imgs), axis = 1)\n",
    "for i in range(y_probs.shape[0]):\n",
    "    y_probs[i][idx[i]] = 1\n",
    "#imgs = adv_imgs + ((np.random.normal(size = (1280, 32, 32, 3)) >= 0.5) - 0.5) * 1/255 * 2\n",
    "import scipy\n",
    "imgs = scipy.ndimage.filters.gaussian_filter(adv_imgs, sigma=0.5)\n",
    "model_eval(sess, x, y, model.get_probs(x), X_test=imgs, Y_test=y_filtered, args={\"batch_size\":batch_size})"
   ]
  },
  {
   "cell_type": "code",
   "execution_count": 7,
   "metadata": {},
   "outputs": [
    {
     "data": {
      "text/plain": [
       "<matplotlib.image.AxesImage at 0x7f971bafb3c8>"
      ]
     },
     "execution_count": 7,
     "metadata": {},
     "output_type": "execute_result"
    }
   ],
   "source": [
    "import matplotlib.pyplot as plt\n",
    "plt.imshow(adv_imgs[0])\n",
    "plt.figure()\n",
    "plt.imshow(imgs[0])"
   ]
  },
  {
   "cell_type": "code",
   "execution_count": 20,
   "metadata": {},
   "outputs": [
    {
     "data": {
      "text/plain": [
       "0.959375"
      ]
     },
     "execution_count": 20,
     "metadata": {},
     "output_type": "execute_result"
    }
   ],
   "source": [
    "y_probs = np.zeros([adv_imgs.shape[0],10])\n",
    "idx = np.argmax(predict(sess,x,model,adv_imgs), axis = 1)\n",
    "for i in range(y_probs.shape[0]):\n",
    "    y_probs[i][idx[i]] = 1\n",
    "imgs = adv_imgs + ((np.random.normal(size = (1280, 32, 32, 3)) >= 0.5) - 0.5) * 1/255 * 2\n",
    "imgs = scipy.ndimage.filters.gaussian_filter(adv_imgs, sigma=0.5)\n",
    "model_eval(sess, x, y, model.get_probs(x), X_test=imgs, Y_test=y_probs, args={\"batch_size\":batch_size})"
   ]
  },
  {
   "cell_type": "code",
   "execution_count": 19,
   "metadata": {},
   "outputs": [
    {
     "data": {
      "text/plain": [
       "0.91796875"
      ]
     },
     "execution_count": 19,
     "metadata": {},
     "output_type": "execute_result"
    }
   ],
   "source": [
    "imgs = x_filtered + ((np.random.normal(size = (1280, 32, 32, 3)) >= 0.5) - 0.5) * 1/255 * 2\n",
    "imgs = scipy.ndimage.filters.gaussian_filter(x_filtered, sigma=0.5)\n",
    "model_eval(sess, x, y, model.get_probs(x), X_test=imgs, Y_test=y_filtered, args={\"batch_size\":batch_size})"
   ]
  },
  {
   "cell_type": "code",
   "execution_count": 138,
   "metadata": {},
   "outputs": [
    {
     "data": {
      "image/png": "[encoded data removed]",
      "text/plain": [
       "<matplotlib.figure.Figure at 0x7f02996799e8>"
      ]
     },
     "metadata": {},
     "output_type": "display_data"
    }
   ],
   "source": [
    "i_th = 1\n",
    "import matplotlib.pyplot as plt\n",
    "fig=plt.figure(figsize=(8, 6))\n",
    "axis = fig.add_subplot(2, 3, 1)\n",
    "axis.set_title(\"benign\")\n",
    "plt.imshow(x_filtered[i_th])\n",
    "axis = fig.add_subplot(2, 3, 2)\n",
    "axis.set_title(\"adversarial\")\n",
    "plt.imshow(adv_imgs[i_th])\n",
    "axis = fig.add_subplot(2, 3, 3)\n",
    "axis.set_title(\"recovered\")\n",
    "plt.imshow(imgs[i_th])\n",
    "axis = fig.add_subplot(2, 3, 4)\n",
    "axis.set_title(\"benign - recovered\")\n",
    "plt.imshow(255 * np.absolute(x_filtered[i_th] - imgs[i_th]))\n",
    "axis = fig.add_subplot(2, 3, 5)\n",
    "axis.set_title(\"benign - adversarial\")\n",
    "plt.imshow(255 * np.absolute(x_filtered[i_th] - adv_imgs[i_th]))\n",
    "axis = fig.add_subplot(2, 3, 6)\n",
    "axis.set_title(\"adversarial - recovered\")\n",
    "plt.imshow(225 * np.absolute(adv_imgs[i_th] - imgs[i_th]))\n",
    "plt.show()"
   ]
  },
  {
   "cell_type": "code",
   "execution_count": 139,
   "metadata": {},
   "outputs": [
    {
     "data": {
      "text/plain": [
       "(array([1.146234e+06, 8.951220e+05, 1.513069e+06, 3.722170e+05,\n",
       "        4.367000e+03, 8.590000e+02, 2.100000e+02, 5.900000e+01,\n",
       "        1.300000e+01, 1.000000e+01]),\n",
       " array([0.        , 0.01038332, 0.02076665, 0.03114997, 0.0415333 ,\n",
       "        0.05191662, 0.06229995, 0.07268327, 0.08306659, 0.09344992,\n",
       "        0.10383324]),\n",
       " <a list of 10 Patch objects>)"
      ]
     },
     "execution_count": 139,
     "metadata": {},
     "output_type": "execute_result"
    },
    {
     "data": {
      "image/png": "[encoded data removed]",
      "text/plain": [
       "<matplotlib.figure.Figure at 0x7f0296e7e0b8>"
      ]
     },
     "metadata": {},
     "output_type": "display_data"
    }
   ],
   "source": [
    "plt.title(\"benign - recovered\")\n",
    "plt.hist(np.absolute(x_filtered - imgs).flatten())"
   ]
  },
  {
   "cell_type": "code",
   "execution_count": 140,
   "metadata": {},
   "outputs": [
    {
     "data": {
      "text/plain": [
       "(array([ 379465.,   15985.,  709632.,    8409.,  657378.,   11863.,\n",
       "           5140.,  618800.,   64419., 1461069.]),\n",
       " array([0.        , 0.00313726, 0.00627452, 0.00941177, 0.01254903,\n",
       "        0.01568629, 0.01882355, 0.0219608 , 0.02509806, 0.02823532,\n",
       "        0.03137258]),\n",
       " <a list of 10 Patch objects>)"
      ]
     },
     "execution_count": 140,
     "metadata": {},
     "output_type": "execute_result"
    },
    {
     "data": {
      "image/png": "[encoded data removed]",
      "text/plain": [
       "<matplotlib.figure.Figure at 0x7f029d1b0dd8>"
      ]
     },
     "metadata": {},
     "output_type": "display_data"
    }
   ],
   "source": [
    "plt.title(\"adversarial - recovered\")\n",
    "plt.hist(np.absolute(adv_imgs - imgs).flatten())"
   ]
  },
  {
   "cell_type": "code",
   "execution_count": 141,
   "metadata": {},
   "outputs": [
    {
     "data": {
      "text/plain": [
       "(array([3.804138e+06, 1.083710e+05, 1.552200e+04, 3.155000e+03,\n",
       "        6.940000e+02, 1.880000e+02, 6.600000e+01, 1.900000e+01,\n",
       "        5.000000e+00, 2.000000e+00]),\n",
       " array([0.        , 0.01352058, 0.02704116, 0.04056174, 0.05408232,\n",
       "        0.0676029 , 0.08112347, 0.09464405, 0.10816463, 0.12168521,\n",
       "        0.13520579]),\n",
       " <a list of 10 Patch objects>)"
      ]
     },
     "execution_count": 141,
     "metadata": {},
     "output_type": "execute_result"
    },
    {
     "data": {
      "image/png": "[encoded data removed]",
      "text/plain": [
       "<matplotlib.figure.Figure at 0x7f02993c2f28>"
      ]
     },
     "metadata": {},
     "output_type": "display_data"
    }
   ],
   "source": [
    "plt.title(\"benign - adversarial\")\n",
    "plt.hist(np.absolute(x_filtered - adv_imgs).flatten())"
   ]
  },
  {
   "cell_type": "code",
   "execution_count": null,
   "metadata": {},
   "outputs": [],
   "source": []
  }
 ],
 "metadata": {
  "kernelspec": {
   "display_name": "Python 3",
   "language": "python",
   "name": "python3"
  },
  "language_info": {
   "codemirror_mode": {
    "name": "ipython",
    "version": 3
   },
   "file_extension": ".py",
   "mimetype": "text/x-python",
   "name": "python",
   "nbconvert_exporter": "python",
   "pygments_lexer": "ipython3",
   "version": "3.5.4"
  }
 },
 "nbformat": 4,
 "nbformat_minor": 2
}
