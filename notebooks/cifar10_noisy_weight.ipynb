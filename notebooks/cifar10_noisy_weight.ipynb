{
 "cells": [
  {
   "cell_type": "code",
   "execution_count": 1,
   "metadata": {},
   "outputs": [
    {
     "name": "stderr",
     "output_type": "stream",
     "text": [
      "/anaconda/envs/py35/lib/python3.5/site-packages/h5py/__init__.py:36: FutureWarning: Conversion of the second argument of issubdtype from `float` to `np.floating` is deprecated. In future, it will be treated as `np.float64 == np.dtype(float).type`.\n",
      "  from ._conv import register_converters as _register_converters\n",
      "Using TensorFlow backend.\n"
     ]
    }
   ],
   "source": [
    "import numpy as np\n",
    "import tensorflow as tf\n",
    "import keras\n",
    "from keras.preprocessing.image import ImageDataGenerator\n",
    "import os\n",
    "np.set_printoptions(threshold=np.nan)\n",
    "\n",
    "TRAIN = 0\n",
    "EVAL  = 1"
   ]
  },
  {
   "cell_type": "code",
   "execution_count": 2,
   "metadata": {},
   "outputs": [],
   "source": [
    "(x_train, y_train), (x_test, y_test) = tf.keras.datasets.cifar10.load_data()\n",
    "x_train = x_train/255\n",
    "x_test = x_test/255\n",
    "\n",
    "y_train = y_train.reshape([y_train.shape[0]])\n",
    "y_test = y_test.reshape([y_test.shape[0]])\n",
    "\n",
    "y_train = np.eye(10)[y_train]\n",
    "y_test = np.eye(10)[y_test]"
   ]
  },
  {
   "cell_type": "code",
   "execution_count": 3,
   "metadata": {},
   "outputs": [],
   "source": [
    "datagen = ImageDataGenerator(\n",
    "        featurewise_center=False,  # set input mean to 0 over the dataset\n",
    "        samplewise_center=False,  # set each sample mean to 0\n",
    "        featurewise_std_normalization=False,  # divide inputs by std of the dataset\n",
    "        samplewise_std_normalization=False,  # divide each input by its std\n",
    "        zca_whitening=False,  # apply ZCA whitening\n",
    "        rotation_range=0,  # randomly rotate images in the range (degrees, 0 to 180)\n",
    "        width_shift_range=0.1,  # randomly shift images horizontally (fraction of total width)\n",
    "        height_shift_range=0.1,  # randomly shift images vertically (fraction of total height)\n",
    "        horizontal_flip=True,  # randomly flip images\n",
    "        vertical_flip=False)  # randomly flip images\n",
    "\n",
    "# Compute quantities required for feature-wise normalization\n",
    "# (std, mean, and principal components if ZCA whitening is applied).\n",
    "datagen.fit(x_train)\n",
    "flow = datagen.flow(x_train, y_train,batch_size=128)"
   ]
  },
  {
   "cell_type": "code",
   "execution_count": 4,
   "metadata": {},
   "outputs": [],
   "source": [
    "train = tf.data.Dataset.from_tensor_slices((x_train, y_train)).shuffle(buffer_size = 1280).repeat()\n",
    "train = train.batch(128)\n",
    "train_itr = train.make_initializable_iterator()\n",
    "next_batch = train_itr.get_next()"
   ]
  },
  {
   "cell_type": "code",
   "execution_count": 5,
   "metadata": {},
   "outputs": [],
   "source": [
    "# input\n",
    "x = tf.placeholder(tf.float32,[None,32,32,3])\n",
    "y_= tf.placeholder(tf.float32,[None,10])\n",
    "z = tf.placeholder(tf.float32,[1,32])\n",
    "# whether is training or not\n",
    "mode = tf.placeholder(tf.int32,[])"
   ]
  },
  {
   "cell_type": "code",
   "execution_count": 6,
   "metadata": {},
   "outputs": [],
   "source": [
    "# cross_entropy   \n",
    "def ce(y_pred, labels):\n",
    "    return tf.reduce_mean(tf.nn.softmax_cross_entropy_with_logits_v2(labels = labels ,logits = y_pred))\n",
    "\n",
    "# accuracy    \n",
    "def acc(y_pred, labels):\n",
    "    correct_prediction =tf.equal(tf.argmax(y_pred,1), tf.argmax(labels,1))\n",
    "    return tf.reduce_mean(tf.cast(correct_prediction,tf.float32),0)\n",
    "\n",
    "def noisy_conv2d(inputs,filters,kernel_size,padding,strides,activation,name,scope_name = \"conv\", noise_on_kernel = True,noise_on_bias = True):\n",
    "    print(\"in shape:\", inputs.get_shape())\n",
    "    kernel_shape = [kernel_size,kernel_size,inputs.get_shape().as_list()[-1],filters]\n",
    "    print(\"kernel shape:\", kernel_shape)\n",
    "    bias_shape = [filters]\n",
    "    kernel = tf.Variable(np.random.normal(size = kernel_shape), dtype = tf.float32, name = name + \"/kernel\")\n",
    "    bias = tf.Variable(np.random.normal(size = bias_shape), dtype = tf.float32, name = name+\"/bias\")\n",
    "\n",
    "    kernel_noise = tf.random_normal(shape = kernel_shape, stddev= 1)\n",
    "    bias_noise = tf.random_normal(shape = bias_shape, stddev= 0.5)\n",
    "\n",
    "    if noise_on_kernel:\n",
    "        kernel = tf.multiply(1 + kernel_noise, kernel)\n",
    "    if noise_on_bias:\n",
    "        bias = tf.multiply(1 + bias_noise, bias)\n",
    "    output = activation(tf.nn.bias_add(tf.nn.conv2d(input = inputs ,filter = kernel,strides = [1, strides, strides, 1], padding = padding, name = name),bias))\n",
    "    print(\"out shape:\", output.get_shape())\n",
    "    return output\n",
    "    \n",
    "def noisy_dense(inputs,units,activation,name,scope_name = \"conv\", noise_on_kernel = True, noise_on_bias = True):\n",
    "    kernel_shape = inputs.get_shape().as_list()[1:] + [units]\n",
    "    bias_shape = [units]\n",
    "    kernel = tf.Variable(np.random.normal(size = kernel_shape), dtype = tf.float32, name = name +\"/kernel\")\n",
    "    bias = tf.Variable(np.random.normal(size = bias_shape), dtype = tf.float32, name = name + \"/bias\")\n",
    "\n",
    "    kernel_noise = tf.random_normal(shape = kernel_shape, stddev= 0.5)\n",
    "    bias_noise = tf.random_normal(shape = bias_shape, stddev= 0.5)\n",
    "\n",
    "    if noise_on_kernel:\n",
    "        kernel = tf.multiply(1 + kernel_noise, kernel)\n",
    "    if noise_on_bias:\n",
    "        bias = tf.multiply(1 + bias_noise, bias)\n",
    "    return activation(tf.nn.bias_add(tf.matmul(inputs,kernel),bias))"
   ]
  },
  {
   "cell_type": "code",
   "execution_count": 7,
   "metadata": {},
   "outputs": [
    {
     "name": "stdout",
     "output_type": "stream",
     "text": [
      "in shape: (?, 32, 32, 3)\n",
      "kernel shape: [3, 3, 3, 64]\n",
      "out shape: (?, 30, 30, 64)\n",
      "in shape: (?, 30, 30, 64)\n",
      "kernel shape: [3, 3, 64, 64]\n",
      "out shape: (?, 28, 28, 64)\n",
      "in shape: (?, 14, 14, 64)\n",
      "kernel shape: [3, 3, 64, 128]\n",
      "out shape: (?, 12, 12, 128)\n",
      "in shape: (?, 12, 12, 128)\n",
      "kernel shape: [3, 3, 128, 128]\n",
      "out shape: (?, 10, 10, 128)\n"
     ]
    }
   ],
   "source": [
    "with tf.variable_scope(\"conv\") as scope:\n",
    "    prev_layer = x\n",
    "    prev_layer = noisy_conv2d(\n",
    "        inputs = prev_layer,\n",
    "        filters = 64,\n",
    "        kernel_size = 3,\n",
    "        padding = 'VALID',\n",
    "        strides = 1,\n",
    "        activation =tf.nn.relu,\n",
    "        name = 'conv2d_1',\n",
    "        scope_name = \"conv\"\n",
    "    )\n",
    "    prev_layer = noisy_conv2d(\n",
    "        inputs = prev_layer,\n",
    "        filters = 64,\n",
    "        kernel_size = 3,\n",
    "        padding = 'VALID',\n",
    "        strides = 1,\n",
    "        activation =tf.nn.relu,\n",
    "        name = 'conv2d_2',\n",
    "        scope_name = \"conv\"\n",
    "    )\n",
    "    prev_layer = tf.layers.max_pooling2d(\n",
    "        inputs = prev_layer,\n",
    "        pool_size = 2,\n",
    "        strides = 2\n",
    "    )\n",
    "\n",
    "\n",
    "    prev_layer = noisy_conv2d(\n",
    "        inputs = prev_layer,\n",
    "        filters = 128,\n",
    "        kernel_size = 3,\n",
    "        padding = 'VALID',\n",
    "        strides = 1,\n",
    "        activation =tf.nn.relu,\n",
    "        name = 'conv2d_3',\n",
    "        scope_name = \"conv\"\n",
    "    )\n",
    "    prev_layer = noisy_conv2d(\n",
    "        inputs = prev_layer,\n",
    "        filters = 128,\n",
    "        kernel_size = 3,\n",
    "        padding = 'VALID',\n",
    "        strides = 1,\n",
    "        activation =tf.nn.relu,\n",
    "        name = 'conv2d_4',\n",
    "        scope_name = \"conv\"\n",
    "    )\n",
    "    prev_layer = tf.layers.max_pooling2d(\n",
    "        inputs = prev_layer,\n",
    "        pool_size = 2,\n",
    "        strides = 2\n",
    "    )\n",
    "\n",
    "    prev_layer = tf.contrib.layers.flatten(prev_layer)\n",
    "    flat = prev_layer\n",
    "\n",
    "    prev_layer = noisy_dense(\n",
    "        inputs = prev_layer,\n",
    "        units = 256,\n",
    "        activation = tf.nn.relu,\n",
    "        name = 'dense_1',\n",
    "        scope_name = \"conv\"\n",
    "    )\n",
    "\n",
    "\n",
    "    prev_layer = noisy_dense(\n",
    "        inputs = prev_layer,\n",
    "        units = 256,\n",
    "        activation = tf.nn.relu,\n",
    "        name = 'dense_2',\n",
    "        scope_name = \"conv\"\n",
    "    )\n",
    "\n",
    "    logits = noisy_dense(\n",
    "        inputs = prev_layer,\n",
    "        units = 10,\n",
    "        activation = lambda t:t,\n",
    "        name = 'dense_3',\n",
    "        scope_name = \"conv\"\n",
    "    )"
   ]
  },
  {
   "cell_type": "code",
   "execution_count": null,
   "metadata": {},
   "outputs": [],
   "source": [
    "pred = tf.nn.softmax(logits)\n",
    "loss=ce(logits, y_)\n",
    "accuracy=acc(pred, y_)\n",
    "\n",
    "theta_conv = tf.trainable_variables(\"conv\")\n",
    "conv_solver = tf.train.AdamOptimizer(learning_rate = 0.001).minimize(loss = loss)\n",
    "\n",
    "sess=tf.Session()\n",
    "sess.run(tf.global_variables_initializer())\n",
    "sess.run(train_itr.initializer)\n",
    "\n"
   ]
  },
  {
   "cell_type": "code",
   "execution_count": null,
   "metadata": {
    "scrolled": true
   },
   "outputs": [
    {
     "name": "stdout",
     "output_type": "stream",
     "text": [
      "INFO:tensorflow:Restoring parameters from new_pretrained/model\n",
      "Step: 0, Acc: 0.1796875, Loss: 6.4133463\n",
      "Step: 100, Acc: 0.1484375, Loss: 2.279562\n",
      "Step: 200, Acc: 0.1953125, Loss: 2.4492877\n",
      "Step: 300, Acc: 0.1875, Loss: 2.1257944\n",
      "Step: 400, Acc: 0.296875, Loss: 1.9597675\n",
      "Step: 500, Acc: 0.171875, Loss: 2.0537493\n",
      "Step: 600, Acc: 0.203125, Loss: 2.162696\n",
      "Step: 700, Acc: 0.25, Loss: 1.9099312\n",
      "Step: 800, Acc: 0.3125, Loss: 1.8870727\n",
      "Step: 900, Acc: 0.3359375, Loss: 1.830172\n",
      "Step: 1000, Acc: 0.3203125, Loss: 1.946311\n",
      "Step: 1100, Acc: 0.4609375, Loss: 1.6279942\n",
      "Step: 1200, Acc: 0.3046875, Loss: 1.929491\n",
      "Step: 1300, Acc: 0.3046875, Loss: 1.9033635\n",
      "Step: 1400, Acc: 0.453125, Loss: 1.6267785\n",
      "Step: 1500, Acc: 0.4140625, Loss: 1.5135903\n",
      "Step: 1600, Acc: 0.3046875, Loss: 1.9558418\n",
      "Step: 1700, Acc: 0.28125, Loss: 2.0203314\n",
      "Step: 1800, Acc: 0.5078125, Loss: 1.4898994\n",
      "Step: 1900, Acc: 0.375, Loss: 1.7646885\n",
      "Step: 2000, Acc: 0.3671875, Loss: 1.7579997\n",
      "Step: 2100, Acc: 0.4296875, Loss: 1.5503488\n",
      "Step: 2200, Acc: 0.375, Loss: 1.6922535\n",
      "Step: 2300, Acc: 0.4765625, Loss: 1.4468892\n",
      "Step: 2400, Acc: 0.546875, Loss: 1.3425019\n",
      "Step: 2500, Acc: 0.3984375, Loss: 1.6284983\n",
      "Step: 2600, Acc: 0.5234375, Loss: 1.4001983\n",
      "Step: 2700, Acc: 0.484375, Loss: 1.5412128\n",
      "Step: 2800, Acc: 0.53125, Loss: 1.3729596\n",
      "Step: 2900, Acc: 0.515625, Loss: 1.4269431\n",
      "Step: 3000, Acc: 0.5078125, Loss: 1.3536171\n"
     ]
    }
   ],
   "source": [
    "saver = tf.train.Saver(var_list = theta_conv)\n",
    "saver.restore(sess,\"new_pretrained/model\")\n",
    "i = 0\n",
    "for batch in flow:\n",
    "    if i >= 20000:\n",
    "        break\n",
    "    if i%100==0:\n",
    "        acc_batch, loss_batch = sess.run([accuracy, loss], feed_dict={x: batch[0], \n",
    "                                                                      y_: batch[1],\n",
    "                                                                      mode : EVAL\n",
    "                                                                     }\n",
    "                                        )\n",
    "        print(\"Step: %s, Acc: %s, Loss: %s\"%(i,acc_batch, loss_batch))\n",
    "        \n",
    "    sess.run(conv_solver, feed_dict={x: batch[0],\n",
    "                                    y_: batch[1],\n",
    "                                    mode: TRAIN})\n",
    "    i+=1"
   ]
  },
  {
   "cell_type": "code",
   "execution_count": null,
   "metadata": {},
   "outputs": [],
   "source": [
    "FINAL_ACC=0.\n",
    "for i in range(0,10):\n",
    "    FINAL_ACC+=0.1*sess.run(accuracy, feed_dict={x: x_test[i*1000:(i+1)*1000], y_: y_test[i*1000:(i+1)*1000], mode: EVAL})   \n",
    "print(\"Final accuracy on test set:\", FINAL_ACC)"
   ]
  },
  {
   "cell_type": "code",
   "execution_count": null,
   "metadata": {},
   "outputs": [],
   "source": [
    "X = None\n",
    "for i in range(0,1):\n",
    "    if i == 0:\n",
    "        X = sess.run(flat, feed_dict={x: x_test[i*1000:(i+1)*1000], y_: y_test[i*1000:(i+1)*1000], mode: EVAL}) \n",
    "    else:\n",
    "        X = np.concatenate((X,sess.run(flat, feed_dict={x: x_test[i*1000:(i+1)*1000], y_: y_test[i*1000:(i+1)*1000], mode: EVAL})), axis = 0)\n",
    "    print(X.shape)"
   ]
  },
  {
   "cell_type": "code",
   "execution_count": null,
   "metadata": {},
   "outputs": [],
   "source": [
    "from sklearn.manifold import TSNE\n",
    "import matplotlib.pyplot as plt\n",
    "colors = [i*25 for i in np.argmax(y_test[0:1000], axis = 1)]\n",
    "\n",
    "embedding = TSNE(n_components=2).fit_transform(X)\n",
    "plt.scatter(embedding[:,0],embedding[:,1], c = colors )"
   ]
  },
  {
   "cell_type": "code",
   "execution_count": null,
   "metadata": {},
   "outputs": [],
   "source": [
    "from sklearn.decomposition import PCA\n",
    "import matplotlib.pyplot as plt\n",
    "colors = [i*25 for i in np.argmax(y_test[0:1000], axis = 1)]\n",
    "#print(colors)\n",
    "embedding = PCA(n_components=2).fit_transform(X)\n",
    "plt.scatter(embedding[:,0],embedding[:,1], c = colors )"
   ]
  },
  {
   "cell_type": "code",
   "execution_count": null,
   "metadata": {},
   "outputs": [],
   "source": [
    "\n",
    "test_pred = sess.run(pred, feed_dict={x: x_test[0:1], y_: y_test[0:1], mode: EVAL}) \n",
    "test_logits = sess.run(logits, feed_dict={x: x_test[0:1], y_: y_test[0:1], mode: EVAL})\n",
    "print(test_logits)\n",
    "print(test_pred)\n",
    "print(y_test[0])"
   ]
  },
  {
   "cell_type": "code",
   "execution_count": null,
   "metadata": {},
   "outputs": [],
   "source": [
    "test_pred = sess.run(pred, feed_dict={x: x_test[0:1], y_: y_test[0:1], mode: EVAL}) \n",
    "test_logits = sess.run(logits, feed_dict={x: x_test[0:1], y_: y_test[0:1], mode: EVAL})\n",
    "print(test_logits)\n",
    "print(test_pred)\n",
    "print(y_test[0])"
   ]
  },
  {
   "cell_type": "code",
   "execution_count": null,
   "metadata": {},
   "outputs": [],
   "source": []
  },
  {
   "cell_type": "code",
   "execution_count": null,
   "metadata": {},
   "outputs": [],
   "source": []
  }
 ],
 "metadata": {
  "kernelspec": {
   "display_name": "Python 3",
   "language": "python",
   "name": "python3"
  },
  "language_info": {
   "codemirror_mode": {
    "name": "ipython",
    "version": 3
   },
   "file_extension": ".py",
   "mimetype": "text/x-python",
   "name": "python",
   "nbconvert_exporter": "python",
   "pygments_lexer": "ipython3",
   "version": "3.5.4"
  }
 },
 "nbformat": 4,
 "nbformat_minor": 2
}
