{
 "cells": [
  {
   "cell_type": "code",
   "execution_count": 1,
   "metadata": {},
   "outputs": [
    {
     "name": "stderr",
     "output_type": "stream",
     "text": [
      "/anaconda/envs/py35/lib/python3.5/site-packages/h5py/__init__.py:36: FutureWarning: Conversion of the second argument of issubdtype from `float` to `np.floating` is deprecated. In future, it will be treated as `np.float64 == np.dtype(float).type`.\n",
      "  from ._conv import register_converters as _register_converters\n",
      "Using TensorFlow backend.\n"
     ]
    }
   ],
   "source": [
    "import numpy as np\n",
    "import tensorflow as tf\n",
    "from utilities import Load_Cifar10_Data\n",
    "from model import Model\n",
    "import os"
   ]
  },
  {
   "cell_type": "code",
   "execution_count": 2,
   "metadata": {},
   "outputs": [
    {
     "name": "stdout",
     "output_type": "stream",
     "text": [
      "out shape: (?, 30, 30, 64)\n",
      "out shape: (?, 28, 28, 64)\n",
      "out shape: (?, 12, 12, 128)\n",
      "out shape: (?, 10, 10, 128)\n",
      "out shape: (?, 256)\n",
      "out shape: (?, 256)\n",
      "out shape: (?, 10)\n",
      "INFO:tensorflow:Restoring parameters from new_pretrained_1/model\n"
     ]
    }
   ],
   "source": [
    "(x_train, y_train), (x_test, y_test) = Load_Cifar10_Data()\n",
    "noise_infos = [{\"kernel\":{\"type\":\"none\"},\"bias\":{\"type\":\"none\"}} for i in range(7)]\n",
    "model = Model(noise_infos,\"new_pretrained_1/model\")"
   ]
  },
  {
   "cell_type": "markdown",
   "metadata": {},
   "source": [
    "# Single Step(Non Target)"
   ]
  },
  {
   "cell_type": "code",
   "execution_count": null,
   "metadata": {
    "scrolled": true
   },
   "outputs": [],
   "source": [
    "model.reset(noise_infos)"
   ]
  },
  {
   "cell_type": "code",
   "execution_count": 44,
   "metadata": {},
   "outputs": [
    {
     "name": "stdout",
     "output_type": "stream",
     "text": [
      "accuracy on benign data: 0.8377000033855438\n"
     ]
    }
   ],
   "source": [
    "from attack import validate_target_model\n",
    "validate_target_model(model)"
   ]
  },
  {
   "cell_type": "code",
   "execution_count": 41,
   "metadata": {},
   "outputs": [
    {
     "name": "stdout",
     "output_type": "stream",
     "text": [
      "(128, 32, 32, 3)\n",
      "success rate for non target attack is: 0.8671875\n",
      "linf distortion: 0.028921598307423156\n",
      "l2 distortion: 0.0008894423839410976\n"
     ]
    },
    {
     "data": {
      "text/plain": [
       "<matplotlib.image.AxesImage at 0x7f06a6a8b588>"
      ]
     },
     "execution_count": 41,
     "metadata": {},
     "output_type": "execute_result"
    },
    {
     "data": {
      "image/png": "[encoded data removed]",
      "text/plain": [
       "<matplotlib.figure.Figure at 0x7f06a89091d0>"
      ]
     },
     "metadata": {},
     "output_type": "display_data"
    }
   ],
   "source": [
    "target = None \n",
    "from attack import filter_data\n",
    "x_filtered,y_filtered = filter_data(model,x_test,y_test,target = target)\n",
    "params = {\n",
    "    \"eps\": 8/255,\n",
    "    \"target\": target,\n",
    "    \"clip_min\":0,\n",
    "    \"clip_max\":1,\n",
    "    \"batch_size\":128,\n",
    "    \"loss_type\":\"cw\",\n",
    "    \"norm\":\"linf\",\n",
    "    \"conf\":0,\n",
    "    \"alpha\":0\n",
    "}\n",
    "from attack import white_box_single_step\n",
    "adv_imgs = white_box_single_step(model,x_filtered,y_filtered,params)\n",
    "from attack import compute_success_rate\n",
    "compute_success_rate(model,adv_imgs,y_filtered, target = target)\n",
    "from attack import compute_distortion\n",
    "print(\"linf distortion:\",compute_distortion(x_filtered,adv_imgs,\"linf\"))\n",
    "print(\"l2 distortion:\",compute_distortion(x_filtered,adv_imgs,\"l2\"))\n",
    "import matplotlib.pyplot as plt\n",
    "plt.imshow(np.clip(adv_imgs[0] - x_filtered[0] + 8/255,a_min = 0,a_max =1)*255)"
   ]
  },
  {
   "cell_type": "code",
   "execution_count": 46,
   "metadata": {},
   "outputs": [],
   "source": [
    "noise_infos = [{\"kernel\":{\"type\":\"none\"},\"bias\":{\"type\":\"none\"}} for i in range(4)\n",
    "              ] + [\n",
    "    {\"kernel\":{\n",
    "        \"type\": \"mul\",\n",
    "        \"func\": tf.random_uniform,\n",
    "        \"params\":{\n",
    "            \"minval\":0,\n",
    "            \"maxval\":10\n",
    "        }\n",
    "        \n",
    "    },\"bias\":{\n",
    "        \"type\": \"mul\",\n",
    "        \"func\": tf.random_uniform,\n",
    "        \"params\": {\n",
    "            \"minval\":0,\n",
    "            \"maxval\":10\n",
    "        }\n",
    "    }} for i in range(3)\n",
    "]"
   ]
  },
  {
   "cell_type": "code",
   "execution_count": 47,
   "metadata": {},
   "outputs": [
    {
     "name": "stdout",
     "output_type": "stream",
     "text": [
      "out shape: (?, 30, 30, 64)\n",
      "out shape: (?, 28, 28, 64)\n",
      "out shape: (?, 12, 12, 128)\n",
      "out shape: (?, 10, 10, 128)\n",
      "out shape: (?, 256)\n",
      "out shape: (?, 256)\n",
      "out shape: (?, 10)\n",
      "INFO:tensorflow:Restoring parameters from new_pretrained_1/model\n",
      "success rate for non target attack is: 0.8125\n"
     ]
    },
    {
     "data": {
      "text/plain": [
       "0.8125"
      ]
     },
     "execution_count": 47,
     "metadata": {},
     "output_type": "execute_result"
    }
   ],
   "source": [
    "model.reset(noise_infos,\"new_pretrained_1/model\")\n",
    "compute_success_rate(model,adv_imgs,y_filtered,target)"
   ]
  },
  {
   "cell_type": "markdown",
   "metadata": {},
   "source": [
    "# Single Step(Target)"
   ]
  },
  {
   "cell_type": "code",
   "execution_count": 5,
   "metadata": {},
   "outputs": [
    {
     "name": "stdout",
     "output_type": "stream",
     "text": [
      "out shape: (?, 30, 30, 64)\n",
      "out shape: (?, 28, 28, 64)\n",
      "out shape: (?, 12, 12, 128)\n",
      "out shape: (?, 10, 10, 128)\n",
      "out shape: (?, 256)\n",
      "out shape: (?, 256)\n",
      "out shape: (?, 10)\n",
      "INFO:tensorflow:Restoring parameters from new_pretrained_1/model\n"
     ]
    }
   ],
   "source": [
    "noise_infos_1 = [{\"kernel\":{\"type\":\"none\"},\"bias\":{\"type\":\"none\"}} for i in range(7)]\n",
    "noise_infos_2 = [{\"kernel\":{\"type\":\"none\"},\"bias\":{\"type\":\"none\"}} for i in range(4)\n",
    "              ] + [\n",
    "    {\"kernel\":{\n",
    "        \"type\": \"mul\",\n",
    "        \"func\": tf.random_uniform,\n",
    "        \"params\":{\n",
    "            \"minval\":0,\n",
    "            \"maxval\":10\n",
    "        }\n",
    "        \n",
    "    },\"bias\":{\n",
    "        \"type\": \"mul\",\n",
    "        \"func\": tf.random_uniform,\n",
    "        \"params\": {\n",
    "            \"minval\":0,\n",
    "            \"maxval\":10\n",
    "        }\n",
    "    }} for i in range(3)\n",
    "]\n",
    "model.reset(noise_infos_2)"
   ]
  },
  {
   "cell_type": "code",
   "execution_count": 7,
   "metadata": {},
   "outputs": [
    {
     "name": "stdout",
     "output_type": "stream",
     "text": [
      "(128, 32, 32, 3)\n",
      "sccess rate for target attack on class 0 is 0.1796875\n",
      "out shape: (?, 30, 30, 64)\n",
      "out shape: (?, 28, 28, 64)\n",
      "out shape: (?, 12, 12, 128)\n",
      "out shape: (?, 10, 10, 128)\n",
      "out shape: (?, 256)\n",
      "out shape: (?, 256)\n",
      "out shape: (?, 10)\n",
      "INFO:tensorflow:Restoring parameters from new_pretrained_1/model\n",
      "sccess rate for target attack on class 0 is 0.171875\n",
      "out shape: (?, 30, 30, 64)\n",
      "out shape: (?, 28, 28, 64)\n",
      "out shape: (?, 12, 12, 128)\n",
      "out shape: (?, 10, 10, 128)\n",
      "out shape: (?, 256)\n",
      "out shape: (?, 256)\n",
      "out shape: (?, 10)\n",
      "INFO:tensorflow:Restoring parameters from new_pretrained_1/model\n",
      "(128, 32, 32, 3)\n",
      "sccess rate for target attack on class 1 is 0.328125\n",
      "out shape: (?, 30, 30, 64)\n",
      "out shape: (?, 28, 28, 64)\n",
      "out shape: (?, 12, 12, 128)\n",
      "out shape: (?, 10, 10, 128)\n",
      "out shape: (?, 256)\n",
      "out shape: (?, 256)\n",
      "out shape: (?, 10)\n",
      "INFO:tensorflow:Restoring parameters from new_pretrained_1/model\n",
      "sccess rate for target attack on class 1 is 0.2578125\n",
      "out shape: (?, 30, 30, 64)\n",
      "out shape: (?, 28, 28, 64)\n",
      "out shape: (?, 12, 12, 128)\n",
      "out shape: (?, 10, 10, 128)\n",
      "out shape: (?, 256)\n",
      "out shape: (?, 256)\n",
      "out shape: (?, 10)\n",
      "INFO:tensorflow:Restoring parameters from new_pretrained_1/model\n",
      "(128, 32, 32, 3)\n",
      "sccess rate for target attack on class 2 is 0.5546875\n",
      "out shape: (?, 30, 30, 64)\n",
      "out shape: (?, 28, 28, 64)\n",
      "out shape: (?, 12, 12, 128)\n",
      "out shape: (?, 10, 10, 128)\n",
      "out shape: (?, 256)\n",
      "out shape: (?, 256)\n",
      "out shape: (?, 10)\n",
      "INFO:tensorflow:Restoring parameters from new_pretrained_1/model\n",
      "sccess rate for target attack on class 2 is 0.53125\n",
      "out shape: (?, 30, 30, 64)\n",
      "out shape: (?, 28, 28, 64)\n",
      "out shape: (?, 12, 12, 128)\n",
      "out shape: (?, 10, 10, 128)\n",
      "out shape: (?, 256)\n",
      "out shape: (?, 256)\n",
      "out shape: (?, 10)\n",
      "INFO:tensorflow:Restoring parameters from new_pretrained_1/model\n",
      "(128, 32, 32, 3)\n",
      "sccess rate for target attack on class 3 is 0.2265625\n",
      "out shape: (?, 30, 30, 64)\n",
      "out shape: (?, 28, 28, 64)\n",
      "out shape: (?, 12, 12, 128)\n",
      "out shape: (?, 10, 10, 128)\n",
      "out shape: (?, 256)\n",
      "out shape: (?, 256)\n",
      "out shape: (?, 10)\n",
      "INFO:tensorflow:Restoring parameters from new_pretrained_1/model\n",
      "sccess rate for target attack on class 3 is 0.203125\n",
      "out shape: (?, 30, 30, 64)\n",
      "out shape: (?, 28, 28, 64)\n",
      "out shape: (?, 12, 12, 128)\n",
      "out shape: (?, 10, 10, 128)\n",
      "out shape: (?, 256)\n",
      "out shape: (?, 256)\n",
      "out shape: (?, 10)\n",
      "INFO:tensorflow:Restoring parameters from new_pretrained_1/model\n",
      "(128, 32, 32, 3)\n",
      "sccess rate for target attack on class 4 is 0.328125\n",
      "out shape: (?, 30, 30, 64)\n",
      "out shape: (?, 28, 28, 64)\n",
      "out shape: (?, 12, 12, 128)\n",
      "out shape: (?, 10, 10, 128)\n",
      "out shape: (?, 256)\n",
      "out shape: (?, 256)\n",
      "out shape: (?, 10)\n",
      "INFO:tensorflow:Restoring parameters from new_pretrained_1/model\n",
      "sccess rate for target attack on class 4 is 0.359375\n",
      "out shape: (?, 30, 30, 64)\n",
      "out shape: (?, 28, 28, 64)\n",
      "out shape: (?, 12, 12, 128)\n",
      "out shape: (?, 10, 10, 128)\n",
      "out shape: (?, 256)\n",
      "out shape: (?, 256)\n",
      "out shape: (?, 10)\n",
      "INFO:tensorflow:Restoring parameters from new_pretrained_1/model\n",
      "(128, 32, 32, 3)\n",
      "sccess rate for target attack on class 5 is 0.1640625\n",
      "out shape: (?, 30, 30, 64)\n",
      "out shape: (?, 28, 28, 64)\n",
      "out shape: (?, 12, 12, 128)\n",
      "out shape: (?, 10, 10, 128)\n",
      "out shape: (?, 256)\n",
      "out shape: (?, 256)\n",
      "out shape: (?, 10)\n",
      "INFO:tensorflow:Restoring parameters from new_pretrained_1/model\n",
      "sccess rate for target attack on class 5 is 0.1640625\n",
      "out shape: (?, 30, 30, 64)\n",
      "out shape: (?, 28, 28, 64)\n",
      "out shape: (?, 12, 12, 128)\n",
      "out shape: (?, 10, 10, 128)\n",
      "out shape: (?, 256)\n",
      "out shape: (?, 256)\n",
      "out shape: (?, 10)\n",
      "INFO:tensorflow:Restoring parameters from new_pretrained_1/model\n",
      "(128, 32, 32, 3)\n",
      "sccess rate for target attack on class 6 is 0.5234375\n",
      "out shape: (?, 30, 30, 64)\n",
      "out shape: (?, 28, 28, 64)\n",
      "out shape: (?, 12, 12, 128)\n",
      "out shape: (?, 10, 10, 128)\n",
      "out shape: (?, 256)\n",
      "out shape: (?, 256)\n",
      "out shape: (?, 10)\n",
      "INFO:tensorflow:Restoring parameters from new_pretrained_1/model\n",
      "sccess rate for target attack on class 6 is 0.5625\n",
      "out shape: (?, 30, 30, 64)\n",
      "out shape: (?, 28, 28, 64)\n",
      "out shape: (?, 12, 12, 128)\n",
      "out shape: (?, 10, 10, 128)\n",
      "out shape: (?, 256)\n",
      "out shape: (?, 256)\n",
      "out shape: (?, 10)\n",
      "INFO:tensorflow:Restoring parameters from new_pretrained_1/model\n",
      "(128, 32, 32, 3)\n",
      "sccess rate for target attack on class 7 is 0.1875\n",
      "out shape: (?, 30, 30, 64)\n",
      "out shape: (?, 28, 28, 64)\n",
      "out shape: (?, 12, 12, 128)\n",
      "out shape: (?, 10, 10, 128)\n",
      "out shape: (?, 256)\n",
      "out shape: (?, 256)\n",
      "out shape: (?, 10)\n",
      "INFO:tensorflow:Restoring parameters from new_pretrained_1/model\n",
      "sccess rate for target attack on class 7 is 0.1953125\n",
      "out shape: (?, 30, 30, 64)\n",
      "out shape: (?, 28, 28, 64)\n",
      "out shape: (?, 12, 12, 128)\n",
      "out shape: (?, 10, 10, 128)\n",
      "out shape: (?, 256)\n",
      "out shape: (?, 256)\n",
      "out shape: (?, 10)\n",
      "INFO:tensorflow:Restoring parameters from new_pretrained_1/model\n",
      "(128, 32, 32, 3)\n",
      "sccess rate for target attack on class 8 is 0.1484375\n",
      "out shape: (?, 30, 30, 64)\n",
      "out shape: (?, 28, 28, 64)\n",
      "out shape: (?, 12, 12, 128)\n",
      "out shape: (?, 10, 10, 128)\n",
      "out shape: (?, 256)\n",
      "out shape: (?, 256)\n",
      "out shape: (?, 10)\n",
      "INFO:tensorflow:Restoring parameters from new_pretrained_1/model\n",
      "sccess rate for target attack on class 8 is 0.1015625\n",
      "out shape: (?, 30, 30, 64)\n",
      "out shape: (?, 28, 28, 64)\n",
      "out shape: (?, 12, 12, 128)\n",
      "out shape: (?, 10, 10, 128)\n",
      "out shape: (?, 256)\n",
      "out shape: (?, 256)\n",
      "out shape: (?, 10)\n",
      "INFO:tensorflow:Restoring parameters from new_pretrained_1/model\n",
      "(128, 32, 32, 3)\n",
      "sccess rate for target attack on class 9 is 0.3515625\n",
      "out shape: (?, 30, 30, 64)\n",
      "out shape: (?, 28, 28, 64)\n",
      "out shape: (?, 12, 12, 128)\n",
      "out shape: (?, 10, 10, 128)\n",
      "out shape: (?, 256)\n",
      "out shape: (?, 256)\n",
      "out shape: (?, 10)\n",
      "INFO:tensorflow:Restoring parameters from new_pretrained_1/model\n",
      "sccess rate for target attack on class 9 is 0.3046875\n",
      "out shape: (?, 30, 30, 64)\n",
      "out shape: (?, 28, 28, 64)\n",
      "out shape: (?, 12, 12, 128)\n",
      "out shape: (?, 10, 10, 128)\n",
      "out shape: (?, 256)\n",
      "out shape: (?, 256)\n",
      "out shape: (?, 10)\n",
      "INFO:tensorflow:Restoring parameters from new_pretrained_1/model\n",
      "avg success rate: 0.29921875\n",
      "avg transfer success rate: 0.28515625\n",
      "linf distortion: 0.030906892425435435\n",
      "l2 distortion: 0.0009520351504197471\n"
     ]
    }
   ],
   "source": [
    "avg_rate = 0\n",
    "avg_transfer_rate = 0\n",
    "avg_linf = 0\n",
    "avg_l2 = 0\n",
    "for i in range(10):\n",
    "    target = i\n",
    "    from attack import filter_data\n",
    "    x_filtered,y_filtered = filter_data(model,x_test,y_test,target = target)\n",
    "    params = {\n",
    "        \"eps\": 8/255,\n",
    "        \"target\": target,\n",
    "        \"clip_min\":0,\n",
    "        \"clip_max\":1,\n",
    "        \"batch_size\":128,\n",
    "        \"loss_type\":\"cw\",\n",
    "        \"norm\":\"linf\",\n",
    "        \"conf\":0,\n",
    "        \"alpha\":0\n",
    "    }\n",
    "    from attack import white_box_single_step\n",
    "    adv_imgs = white_box_single_step(model,x_filtered,y_filtered,params)\n",
    "    from attack import compute_success_rate\n",
    "    avg_rate += 0.1 * compute_success_rate(model,adv_imgs,y_filtered, target = target)\n",
    "    model.reset(noise_infos_2)\n",
    "    avg_transfer_rate += 0.1 * compute_success_rate(model,adv_imgs,y_filtered, target = target)\n",
    "    model.reset(noise_infos_2)\n",
    "    from attack import compute_distortion\n",
    "    avg_linf += 0.1 * compute_distortion(x_filtered,adv_imgs,\"linf\")\n",
    "    avg_l2 += 0.1* compute_distortion(x_filtered,adv_imgs,\"l2\")\n",
    "print(\"avg success rate:\",avg_rate)\n",
    "print(\"avg transfer success rate:\",avg_transfer_rate)\n",
    "print(\"linf distortion:\",avg_linf)\n",
    "print(\"l2 distortion:\",avg_l2)"
   ]
  },
  {
   "cell_type": "markdown",
   "metadata": {},
   "source": [
    "# Iterative(Non Target)"
   ]
  },
  {
   "cell_type": "code",
   "execution_count": 23,
   "metadata": {},
   "outputs": [
    {
     "name": "stdout",
     "output_type": "stream",
     "text": [
      "out shape: (?, 30, 30, 64)\n",
      "out shape: (?, 28, 28, 64)\n",
      "out shape: (?, 12, 12, 128)\n",
      "out shape: (?, 10, 10, 128)\n",
      "out shape: (?, 256)\n",
      "out shape: (?, 256)\n",
      "out shape: (?, 10)\n",
      "INFO:tensorflow:Restoring parameters from new_pretrained_1/model\n"
     ]
    }
   ],
   "source": [
    "noise_infos_1 = [{\"kernel\":{\"type\":\"none\"},\"bias\":{\"type\":\"none\"}} for i in range(7)]\n",
    "noise_infos_2 = [{\"kernel\":{\"type\":\"none\"},\"bias\":{\"type\":\"none\"}} for i in range(4)\n",
    "              ] + [\n",
    "    {\"kernel\":{\n",
    "        \"type\": \"mul\",\n",
    "        \"func\": tf.random_uniform,\n",
    "        \"params\":{\n",
    "            \"minval\":0,\n",
    "            \"maxval\":10\n",
    "        }\n",
    "        \n",
    "    },\"bias\":{\n",
    "        \"type\": \"mul\",\n",
    "        \"func\": tf.random_uniform,\n",
    "        \"params\": {\n",
    "            \"minval\":0,\n",
    "            \"maxval\":10\n",
    "        }\n",
    "    }} for i in range(3)\n",
    "]\n",
    "model.reset(noise_infos_1)"
   ]
  },
  {
   "cell_type": "code",
   "execution_count": 24,
   "metadata": {},
   "outputs": [
    {
     "name": "stdout",
     "output_type": "stream",
     "text": [
      "(128, 32, 32, 3)\n",
      "(128, 32, 32, 3)\n",
      "(128, 32, 32, 3)\n",
      "(128, 32, 32, 3)\n",
      "(128, 32, 32, 3)\n",
      "(128, 32, 32, 3)\n",
      "(128, 32, 32, 3)\n",
      "(128, 32, 32, 3)\n",
      "(128, 32, 32, 3)\n",
      "(128, 32, 32, 3)\n",
      "success rate for non target attack is: 1.0\n",
      "linf distortion: 0.00879292183866103\n",
      "l2 distortion: 6.438672683425275e-05\n",
      "out shape: (?, 30, 30, 64)\n",
      "out shape: (?, 28, 28, 64)\n",
      "out shape: (?, 12, 12, 128)\n",
      "out shape: (?, 10, 10, 128)\n",
      "out shape: (?, 256)\n",
      "out shape: (?, 256)\n",
      "out shape: (?, 10)\n",
      "INFO:tensorflow:Restoring parameters from new_pretrained_1/model\n",
      "success rate for non target attack is: 0.796875\n"
     ]
    },
    {
     "data": {
      "text/plain": [
       "0.796875"
      ]
     },
     "execution_count": 24,
     "metadata": {},
     "output_type": "execute_result"
    }
   ],
   "source": [
    "target = None\n",
    "from attack import filter_data\n",
    "x_filtered,y_filtered = filter_data(model,x_test,y_test,target = target)\n",
    "params = {\n",
    "    \"eps\": 8/255,\n",
    "    \"target\": target,\n",
    "    \"nb_iter\": 10,\n",
    "    \"eps_iter\":1/255,\n",
    "    \"clip_min\":0,\n",
    "    \"clip_max\":1,\n",
    "    \"batch_size\":128,\n",
    "    \"loss_type\":\"cw\",\n",
    "    \"norm\":\"linf\",\n",
    "    \"conf\":0,\n",
    "    \"alpha\":0\n",
    "}\n",
    "from attack import white_box_iterative\n",
    "adv_imgs = white_box_iterative(model,x_filtered,y_filtered,params)\n",
    "from attack import compute_success_rate\n",
    "compute_success_rate(model,adv_imgs,y_filtered, target = target)\n",
    "from attack import compute_distortion\n",
    "print(\"linf distortion:\",compute_distortion(x_filtered,adv_imgs,\"linf\"))\n",
    "print(\"l2 distortion:\",compute_distortion(x_filtered,adv_imgs,\"l2\"))\n",
    "#plt.imshow(np.clip(adv_imgs[0] - x_filtered[0] + 8/255,a_min = 0,a_max =1) * 500)\n",
    "model.reset(noise_infos_2)\n",
    "compute_success_rate(model,adv_imgs,y_filtered, target = target)"
   ]
  },
  {
   "cell_type": "markdown",
   "metadata": {},
   "source": [
    "# Iterative(Target)"
   ]
  },
  {
   "cell_type": "code",
   "execution_count": 8,
   "metadata": {},
   "outputs": [
    {
     "name": "stdout",
     "output_type": "stream",
     "text": [
      "out shape: (?, 30, 30, 64)\n",
      "out shape: (?, 28, 28, 64)\n",
      "out shape: (?, 12, 12, 128)\n",
      "out shape: (?, 10, 10, 128)\n",
      "out shape: (?, 256)\n",
      "out shape: (?, 256)\n",
      "out shape: (?, 10)\n",
      "INFO:tensorflow:Restoring parameters from new_pretrained_1/model\n"
     ]
    }
   ],
   "source": [
    "noise_infos_1 = [{\"kernel\":{\"type\":\"none\"},\"bias\":{\"type\":\"none\"}} for i in range(7)]\n",
    "noise_infos_2 = [{\"kernel\":{\"type\":\"none\"},\"bias\":{\"type\":\"none\"}} for i in range(4)\n",
    "              ] + [\n",
    "    {\"kernel\":{\n",
    "        \"type\": \"mul\",\n",
    "        \"func\": tf.random_uniform,\n",
    "        \"params\":{\n",
    "            \"minval\":0,\n",
    "            \"maxval\":10\n",
    "        }\n",
    "        \n",
    "    },\"bias\":{\n",
    "        \"type\": \"mul\",\n",
    "        \"func\": tf.random_uniform,\n",
    "        \"params\": {\n",
    "            \"minval\":0,\n",
    "            \"maxval\":10\n",
    "        }\n",
    "    }} for i in range(3)\n",
    "]\n",
    "model.reset(noise_infos_2)"
   ]
  },
  {
   "cell_type": "code",
   "execution_count": 10,
   "metadata": {},
   "outputs": [
    {
     "name": "stdout",
     "output_type": "stream",
     "text": [
      "(128, 32, 32, 3)\n",
      "(128, 32, 32, 3)\n",
      "(128, 32, 32, 3)\n",
      "(128, 32, 32, 3)\n",
      "(128, 32, 32, 3)\n",
      "(128, 32, 32, 3)\n",
      "(128, 32, 32, 3)\n",
      "(128, 32, 32, 3)\n",
      "(128, 32, 32, 3)\n",
      "(128, 32, 32, 3)\n",
      "sccess rate for target attack on class 0 is 0.875\n",
      "out shape: (?, 30, 30, 64)\n",
      "out shape: (?, 28, 28, 64)\n",
      "out shape: (?, 12, 12, 128)\n",
      "out shape: (?, 10, 10, 128)\n",
      "out shape: (?, 256)\n",
      "out shape: (?, 256)\n",
      "out shape: (?, 10)\n",
      "INFO:tensorflow:Restoring parameters from new_pretrained_1/model\n",
      "sccess rate for target attack on class 0 is 0.8828125\n",
      "out shape: (?, 30, 30, 64)\n",
      "out shape: (?, 28, 28, 64)\n",
      "out shape: (?, 12, 12, 128)\n",
      "out shape: (?, 10, 10, 128)\n",
      "out shape: (?, 256)\n",
      "out shape: (?, 256)\n",
      "out shape: (?, 10)\n",
      "INFO:tensorflow:Restoring parameters from new_pretrained_1/model\n",
      "(128, 32, 32, 3)\n",
      "(128, 32, 32, 3)\n",
      "(128, 32, 32, 3)\n",
      "(128, 32, 32, 3)\n",
      "(128, 32, 32, 3)\n",
      "(128, 32, 32, 3)\n",
      "(128, 32, 32, 3)\n",
      "(128, 32, 32, 3)\n",
      "(128, 32, 32, 3)\n",
      "(128, 32, 32, 3)\n",
      "sccess rate for target attack on class 1 is 0.8671875\n",
      "out shape: (?, 30, 30, 64)\n",
      "out shape: (?, 28, 28, 64)\n",
      "out shape: (?, 12, 12, 128)\n",
      "out shape: (?, 10, 10, 128)\n",
      "out shape: (?, 256)\n",
      "out shape: (?, 256)\n",
      "out shape: (?, 10)\n",
      "INFO:tensorflow:Restoring parameters from new_pretrained_1/model\n",
      "sccess rate for target attack on class 1 is 0.8671875\n",
      "out shape: (?, 30, 30, 64)\n",
      "out shape: (?, 28, 28, 64)\n",
      "out shape: (?, 12, 12, 128)\n",
      "out shape: (?, 10, 10, 128)\n",
      "out shape: (?, 256)\n",
      "out shape: (?, 256)\n",
      "out shape: (?, 10)\n",
      "INFO:tensorflow:Restoring parameters from new_pretrained_1/model\n",
      "(128, 32, 32, 3)\n",
      "(128, 32, 32, 3)\n",
      "(128, 32, 32, 3)\n",
      "(128, 32, 32, 3)\n",
      "(128, 32, 32, 3)\n",
      "(128, 32, 32, 3)\n",
      "(128, 32, 32, 3)\n",
      "(128, 32, 32, 3)\n",
      "(128, 32, 32, 3)\n",
      "(128, 32, 32, 3)\n",
      "sccess rate for target attack on class 2 is 0.859375\n",
      "out shape: (?, 30, 30, 64)\n",
      "out shape: (?, 28, 28, 64)\n",
      "out shape: (?, 12, 12, 128)\n",
      "out shape: (?, 10, 10, 128)\n",
      "out shape: (?, 256)\n",
      "out shape: (?, 256)\n",
      "out shape: (?, 10)\n",
      "INFO:tensorflow:Restoring parameters from new_pretrained_1/model\n",
      "sccess rate for target attack on class 2 is 0.8828125\n",
      "out shape: (?, 30, 30, 64)\n",
      "out shape: (?, 28, 28, 64)\n",
      "out shape: (?, 12, 12, 128)\n",
      "out shape: (?, 10, 10, 128)\n",
      "out shape: (?, 256)\n",
      "out shape: (?, 256)\n",
      "out shape: (?, 10)\n",
      "INFO:tensorflow:Restoring parameters from new_pretrained_1/model\n",
      "(128, 32, 32, 3)\n",
      "(128, 32, 32, 3)\n",
      "(128, 32, 32, 3)\n",
      "(128, 32, 32, 3)\n",
      "(128, 32, 32, 3)\n",
      "(128, 32, 32, 3)\n",
      "(128, 32, 32, 3)\n",
      "(128, 32, 32, 3)\n",
      "(128, 32, 32, 3)\n",
      "(128, 32, 32, 3)\n",
      "sccess rate for target attack on class 3 is 0.6796875\n",
      "out shape: (?, 30, 30, 64)\n",
      "out shape: (?, 28, 28, 64)\n",
      "out shape: (?, 12, 12, 128)\n",
      "out shape: (?, 10, 10, 128)\n",
      "out shape: (?, 256)\n",
      "out shape: (?, 256)\n",
      "out shape: (?, 10)\n",
      "INFO:tensorflow:Restoring parameters from new_pretrained_1/model\n",
      "sccess rate for target attack on class 3 is 0.7265625\n",
      "out shape: (?, 30, 30, 64)\n",
      "out shape: (?, 28, 28, 64)\n",
      "out shape: (?, 12, 12, 128)\n",
      "out shape: (?, 10, 10, 128)\n",
      "out shape: (?, 256)\n",
      "out shape: (?, 256)\n",
      "out shape: (?, 10)\n",
      "INFO:tensorflow:Restoring parameters from new_pretrained_1/model\n",
      "(128, 32, 32, 3)\n",
      "(128, 32, 32, 3)\n",
      "(128, 32, 32, 3)\n",
      "(128, 32, 32, 3)\n",
      "(128, 32, 32, 3)\n",
      "(128, 32, 32, 3)\n",
      "(128, 32, 32, 3)\n",
      "(128, 32, 32, 3)\n",
      "(128, 32, 32, 3)\n",
      "(128, 32, 32, 3)\n",
      "sccess rate for target attack on class 4 is 0.828125\n",
      "out shape: (?, 30, 30, 64)\n",
      "out shape: (?, 28, 28, 64)\n",
      "out shape: (?, 12, 12, 128)\n",
      "out shape: (?, 10, 10, 128)\n",
      "out shape: (?, 256)\n",
      "out shape: (?, 256)\n",
      "out shape: (?, 10)\n",
      "INFO:tensorflow:Restoring parameters from new_pretrained_1/model\n",
      "sccess rate for target attack on class 4 is 0.84375\n",
      "out shape: (?, 30, 30, 64)\n",
      "out shape: (?, 28, 28, 64)\n",
      "out shape: (?, 12, 12, 128)\n",
      "out shape: (?, 10, 10, 128)\n",
      "out shape: (?, 256)\n",
      "out shape: (?, 256)\n",
      "out shape: (?, 10)\n",
      "INFO:tensorflow:Restoring parameters from new_pretrained_1/model\n",
      "(128, 32, 32, 3)\n",
      "(128, 32, 32, 3)\n",
      "(128, 32, 32, 3)\n",
      "(128, 32, 32, 3)\n",
      "(128, 32, 32, 3)\n",
      "(128, 32, 32, 3)\n",
      "(128, 32, 32, 3)\n",
      "(128, 32, 32, 3)\n",
      "(128, 32, 32, 3)\n",
      "(128, 32, 32, 3)\n",
      "sccess rate for target attack on class 5 is 0.7109375\n",
      "out shape: (?, 30, 30, 64)\n",
      "out shape: (?, 28, 28, 64)\n",
      "out shape: (?, 12, 12, 128)\n",
      "out shape: (?, 10, 10, 128)\n",
      "out shape: (?, 256)\n",
      "out shape: (?, 256)\n",
      "out shape: (?, 10)\n",
      "INFO:tensorflow:Restoring parameters from new_pretrained_1/model\n",
      "sccess rate for target attack on class 5 is 0.7578125\n",
      "out shape: (?, 30, 30, 64)\n",
      "out shape: (?, 28, 28, 64)\n",
      "out shape: (?, 12, 12, 128)\n",
      "out shape: (?, 10, 10, 128)\n",
      "out shape: (?, 256)\n",
      "out shape: (?, 256)\n",
      "out shape: (?, 10)\n",
      "INFO:tensorflow:Restoring parameters from new_pretrained_1/model\n",
      "(128, 32, 32, 3)\n",
      "(128, 32, 32, 3)\n",
      "(128, 32, 32, 3)\n",
      "(128, 32, 32, 3)\n",
      "(128, 32, 32, 3)\n",
      "(128, 32, 32, 3)\n",
      "(128, 32, 32, 3)\n",
      "(128, 32, 32, 3)\n",
      "(128, 32, 32, 3)\n",
      "(128, 32, 32, 3)\n",
      "sccess rate for target attack on class 6 is 0.84375\n",
      "out shape: (?, 30, 30, 64)\n",
      "out shape: (?, 28, 28, 64)\n",
      "out shape: (?, 12, 12, 128)\n",
      "out shape: (?, 10, 10, 128)\n",
      "out shape: (?, 256)\n",
      "out shape: (?, 256)\n",
      "out shape: (?, 10)\n",
      "INFO:tensorflow:Restoring parameters from new_pretrained_1/model\n",
      "sccess rate for target attack on class 6 is 0.8515625\n",
      "out shape: (?, 30, 30, 64)\n",
      "out shape: (?, 28, 28, 64)\n",
      "out shape: (?, 12, 12, 128)\n",
      "out shape: (?, 10, 10, 128)\n",
      "out shape: (?, 256)\n",
      "out shape: (?, 256)\n",
      "out shape: (?, 10)\n",
      "INFO:tensorflow:Restoring parameters from new_pretrained_1/model\n",
      "(128, 32, 32, 3)\n",
      "(128, 32, 32, 3)\n",
      "(128, 32, 32, 3)\n",
      "(128, 32, 32, 3)\n",
      "(128, 32, 32, 3)\n",
      "(128, 32, 32, 3)\n",
      "(128, 32, 32, 3)\n",
      "(128, 32, 32, 3)\n",
      "(128, 32, 32, 3)\n",
      "(128, 32, 32, 3)\n",
      "sccess rate for target attack on class 7 is 0.8359375\n",
      "out shape: (?, 30, 30, 64)\n",
      "out shape: (?, 28, 28, 64)\n",
      "out shape: (?, 12, 12, 128)\n",
      "out shape: (?, 10, 10, 128)\n",
      "out shape: (?, 256)\n",
      "out shape: (?, 256)\n",
      "out shape: (?, 10)\n",
      "INFO:tensorflow:Restoring parameters from new_pretrained_1/model\n",
      "sccess rate for target attack on class 7 is 0.890625\n",
      "out shape: (?, 30, 30, 64)\n",
      "out shape: (?, 28, 28, 64)\n",
      "out shape: (?, 12, 12, 128)\n",
      "out shape: (?, 10, 10, 128)\n",
      "out shape: (?, 256)\n",
      "out shape: (?, 256)\n",
      "out shape: (?, 10)\n",
      "INFO:tensorflow:Restoring parameters from new_pretrained_1/model\n",
      "(128, 32, 32, 3)\n",
      "(128, 32, 32, 3)\n",
      "(128, 32, 32, 3)\n",
      "(128, 32, 32, 3)\n",
      "(128, 32, 32, 3)\n",
      "(128, 32, 32, 3)\n",
      "(128, 32, 32, 3)\n",
      "(128, 32, 32, 3)\n",
      "(128, 32, 32, 3)\n",
      "(128, 32, 32, 3)\n",
      "sccess rate for target attack on class 8 is 0.8046875\n",
      "out shape: (?, 30, 30, 64)\n",
      "out shape: (?, 28, 28, 64)\n",
      "out shape: (?, 12, 12, 128)\n",
      "out shape: (?, 10, 10, 128)\n",
      "out shape: (?, 256)\n",
      "out shape: (?, 256)\n",
      "out shape: (?, 10)\n",
      "INFO:tensorflow:Restoring parameters from new_pretrained_1/model\n",
      "sccess rate for target attack on class 8 is 0.7734375\n",
      "out shape: (?, 30, 30, 64)\n",
      "out shape: (?, 28, 28, 64)\n",
      "out shape: (?, 12, 12, 128)\n",
      "out shape: (?, 10, 10, 128)\n",
      "out shape: (?, 256)\n",
      "out shape: (?, 256)\n",
      "out shape: (?, 10)\n",
      "INFO:tensorflow:Restoring parameters from new_pretrained_1/model\n",
      "(128, 32, 32, 3)\n",
      "(128, 32, 32, 3)\n",
      "(128, 32, 32, 3)\n",
      "(128, 32, 32, 3)\n",
      "(128, 32, 32, 3)\n",
      "(128, 32, 32, 3)\n",
      "(128, 32, 32, 3)\n",
      "(128, 32, 32, 3)\n",
      "(128, 32, 32, 3)\n",
      "(128, 32, 32, 3)\n",
      "sccess rate for target attack on class 9 is 0.890625\n",
      "out shape: (?, 30, 30, 64)\n",
      "out shape: (?, 28, 28, 64)\n",
      "out shape: (?, 12, 12, 128)\n",
      "out shape: (?, 10, 10, 128)\n",
      "out shape: (?, 256)\n",
      "out shape: (?, 256)\n",
      "out shape: (?, 10)\n",
      "INFO:tensorflow:Restoring parameters from new_pretrained_1/model\n",
      "sccess rate for target attack on class 9 is 0.8984375\n",
      "out shape: (?, 30, 30, 64)\n",
      "out shape: (?, 28, 28, 64)\n",
      "out shape: (?, 12, 12, 128)\n",
      "out shape: (?, 10, 10, 128)\n",
      "out shape: (?, 256)\n",
      "out shape: (?, 256)\n",
      "out shape: (?, 10)\n",
      "INFO:tensorflow:Restoring parameters from new_pretrained_1/model\n",
      "avg success rate: 0.8195312500000002\n",
      "avg transfer success rate: 0.8375000000000001\n",
      "linf distortion: 0.0215870313762742\n",
      "l2 distortion: 0.00017997070574497356\n"
     ]
    }
   ],
   "source": [
    "avg_rate = 0\n",
    "avg_transfer_rate = 0\n",
    "avg_linf = 0\n",
    "avg_l2 = 0\n",
    "for i in range(10):\n",
    "    target = i\n",
    "    from attack import filter_data\n",
    "    x_filtered,y_filtered = filter_data(model,x_test,y_test,target = target)\n",
    "    params = {\n",
    "        \"eps\": 8/255,\n",
    "        \"target\": target,\n",
    "        \"nb_iter\": 10,\n",
    "        \"eps_iter\":1/255,\n",
    "        \"clip_min\":0,\n",
    "        \"clip_max\":1,\n",
    "        \"batch_size\":128,\n",
    "        \"loss_type\":\"cw\",\n",
    "        \"norm\":\"linf\",\n",
    "        \"conf\":0,\n",
    "        \"alpha\":0\n",
    "    }\n",
    "    from attack import white_box_iterative\n",
    "    adv_imgs = white_box_iterative(model,x_filtered,y_filtered,params)\n",
    "    from attack import compute_success_rate\n",
    "    avg_rate += 0.1 * compute_success_rate(model,adv_imgs,y_filtered, target = target)\n",
    "    model.reset(noise_infos_2)\n",
    "    avg_transfer_rate += 0.1 * compute_success_rate(model,adv_imgs,y_filtered, target = target)\n",
    "    model.reset(noise_infos_2)\n",
    "    from attack import compute_distortion\n",
    "    avg_linf += 0.1 * compute_distortion(x_filtered,adv_imgs,\"linf\")\n",
    "    avg_l2 += 0.1* compute_distortion(x_filtered,adv_imgs,\"l2\")\n",
    "print(\"avg success rate:\",avg_rate)\n",
    "print(\"avg transfer success rate:\",avg_transfer_rate)\n",
    "print(\"linf distortion:\",avg_linf)\n",
    "print(\"l2 distortion:\",avg_l2)"
   ]
  },
  {
   "cell_type": "markdown",
   "metadata": {},
   "source": [
    "# Test Training"
   ]
  },
  {
   "cell_type": "code",
   "execution_count": null,
   "metadata": {},
   "outputs": [
    {
     "name": "stderr",
     "output_type": "stream",
     "text": [
      "/anaconda/envs/py35/lib/python3.5/site-packages/h5py/__init__.py:36: FutureWarning: Conversion of the second argument of issubdtype from `float` to `np.floating` is deprecated. In future, it will be treated as `np.float64 == np.dtype(float).type`.\n",
      "  from ._conv import register_converters as _register_converters\n",
      "Using TensorFlow backend.\n"
     ]
    },
    {
     "name": "stdout",
     "output_type": "stream",
     "text": [
      "WARNING:tensorflow:From /home/pdimage/notebooks/DYNAMIC_NETWORK/tf/utilities.py:47: calling reduce_sum (from tensorflow.python.ops.math_ops) with keep_dims is deprecated and will be removed in a future version.\n",
      "Instructions for updating:\n",
      "keep_dims is deprecated, use keepdims instead\n",
      "out shape: (?, 30, 30, 64)\n",
      "out shape: (?, 28, 28, 64)\n",
      "out shape: (?, 12, 12, 128)\n",
      "out shape: (?, 10, 10, 128)\n",
      "out shape: (?, 256)\n",
      "out shape: (?, 256)\n",
      "out shape: (?, 10)\n",
      "0.09806000038981436\n",
      "0.0964999996125698\n"
     ]
    }
   ],
   "source": [
    "import tensorflow as tf\n",
    "import numpy as np\n",
    "from utilities import Load_Cifar10_Data\n",
    "from model import Model\n",
    "(x_train, y_train), (x_test, y_test) = Load_Cifar10_Data()\n",
    "noise_infos = [{\"kernel\":{\"type\":\"none\"},\"bias\":{\"type\":\"none\"}} for i in range(7)]\n",
    "model = Model(noise_infos,None)\n",
    "print(model.test(x_train,y_train))\n",
    "print(model.test(x_test,y_test))"
   ]
  },
  {
   "cell_type": "code",
   "execution_count": 2,
   "metadata": {},
   "outputs": [
    {
     "name": "stdout",
     "output_type": "stream",
     "text": [
      "out shape: (?, 30, 30, 64)\n",
      "out shape: (?, 28, 28, 64)\n",
      "out shape: (?, 12, 12, 128)\n",
      "out shape: (?, 10, 10, 128)\n",
      "out shape: (?, 256)\n",
      "out shape: (?, 256)\n",
      "out shape: (?, 10)\n",
      "INFO:tensorflow:Restoring parameters from new_pretrained_1/model\n"
     ]
    }
   ],
   "source": [
    "noise_infos = [{\"kernel\":{\"type\":\"none\"},\"bias\":{\"type\":\"none\"}} for i in range(4)\n",
    "              ] + [\n",
    "    {\"kernel\":{\n",
    "        \"type\": \"mul\",\n",
    "        \"func\": tf.random_normal,\n",
    "        \"params\":{\n",
    "            \"mean\":1,\n",
    "            \"stddev\":0.5\n",
    "        }\n",
    "        \n",
    "    },\"bias\":{\n",
    "        \"type\": \"mul\",\n",
    "        \"func\": tf.random_normal,\n",
    "        \"params\": {\n",
    "            \"mean\":1,\n",
    "            \"stddev\":0.5\n",
    "        }\n",
    "    }} for i in range(3)\n",
    "]\n",
    "model.reset(noise_infos)"
   ]
  },
  {
   "cell_type": "code",
   "execution_count": 3,
   "metadata": {},
   "outputs": [
    {
     "name": "stdout",
     "output_type": "stream",
     "text": [
      "accuracy on benign data: 0.8377000033855438\n"
     ]
    }
   ],
   "source": [
    "from attack import validate_target_model\n",
    "validate_target_model(model)"
   ]
  },
  {
   "cell_type": "code",
   "execution_count": 3,
   "metadata": {},
   "outputs": [
    {
     "data": {
      "text/plain": [
       "0.10150000005960465"
      ]
     },
     "execution_count": 3,
     "metadata": {},
     "output_type": "execute_result"
    }
   ],
   "source": [
    "model.test(x_train[:10000],y_train[:10000])"
   ]
  },
  {
   "cell_type": "code",
   "execution_count": null,
   "metadata": {},
   "outputs": [
    {
     "name": "stdout",
     "output_type": "stream",
     "text": [
      "[<tf.Variable 'conv/conv2d_1/kernel:0' shape=(3, 3, 3, 64) dtype=float32_ref>, <tf.Variable 'conv/conv2d_1/bias:0' shape=(64,) dtype=float32_ref>, <tf.Variable 'conv/conv2d_2/kernel:0' shape=(3, 3, 64, 64) dtype=float32_ref>, <tf.Variable 'conv/conv2d_2/bias:0' shape=(64,) dtype=float32_ref>, <tf.Variable 'conv/conv2d_3/kernel:0' shape=(3, 3, 64, 128) dtype=float32_ref>, <tf.Variable 'conv/conv2d_3/bias:0' shape=(128,) dtype=float32_ref>, <tf.Variable 'conv/conv2d_4/kernel:0' shape=(3, 3, 128, 128) dtype=float32_ref>, <tf.Variable 'conv/conv2d_4/bias:0' shape=(128,) dtype=float32_ref>, <tf.Variable 'conv/dense_1/kernel:0' shape=(3200, 256) dtype=float32_ref>, <tf.Variable 'conv/dense_1/bias:0' shape=(256,) dtype=float32_ref>, <tf.Variable 'conv/dense_2/kernel:0' shape=(256, 256) dtype=float32_ref>, <tf.Variable 'conv/dense_2/bias:0' shape=(256,) dtype=float32_ref>, <tf.Variable 'conv/dense_3/kernel:0' shape=(256, 10) dtype=float32_ref>, <tf.Variable 'conv/dense_3/bias:0' shape=(10,) dtype=float32_ref>]\n",
      "0 epoch:  [1212.2188, 0.092]\n",
      "1 epoch:  [40.837116, 0.289]\n",
      "2 epoch:  [25.970657, 0.332]\n",
      "3 epoch:  [17.587193, 0.35]\n",
      "4 epoch:  [12.933185, 0.346]\n",
      "5 epoch:  [8.471842, 0.374]\n",
      "6 epoch:  [6.8533053, 0.347]\n",
      "7 epoch:  [4.7001348, 0.383]\n",
      "8 epoch:  [3.6977646, 0.356]\n",
      "9 epoch:  [3.011809, 0.368]\n",
      "10 epoch:  [2.5532076, 0.37]\n",
      "11 epoch:  [2.1083088, 0.392]\n",
      "12 epoch:  [1.992785, 0.399]\n",
      "13 epoch:  [1.8680239, 0.415]\n",
      "14 epoch:  [1.8064553, 0.39]\n",
      "15 epoch:  [1.6007123, 0.448]\n",
      "16 epoch:  [1.5273528, 0.471]\n",
      "17 epoch:  [1.6470602, 0.442]\n",
      "18 epoch:  [1.6958492, 0.439]\n",
      "19 epoch:  [1.5749648, 0.481]\n",
      "20 epoch:  [1.5234789, 0.488]\n",
      "21 epoch:  [1.4948642, 0.482]\n",
      "22 epoch:  [1.4658318, 0.5]\n",
      "23 epoch:  [1.7625029, 0.44]\n",
      "24 epoch:  [1.456612, 0.514]\n",
      "25 epoch:  [1.5420837, 0.499]\n",
      "26 epoch:  [1.4727983, 0.503]\n",
      "27 epoch:  [1.3284394, 0.526]\n",
      "28 epoch:  [1.3239505, 0.556]\n"
     ]
    }
   ],
   "source": [
    "model.train(x_train, y_train , x_test, y_test, epoch = 60, learning_rate = 0.0001,weight_decay = 1e-5,init_path = None,save_path = \"model/clean\",optimizer = \"adam\")"
   ]
  },
  {
   "cell_type": "code",
   "execution_count": 26,
   "metadata": {},
   "outputs": [
    {
     "name": "stdout",
     "output_type": "stream",
     "text": [
      "accuracy on benign data: 0.7163000166416168\n"
     ]
    }
   ],
   "source": [
    "from attack import validate_target_model\n",
    "validate_target_model(model)"
   ]
  },
  {
   "cell_type": "code",
   "execution_count": 17,
   "metadata": {},
   "outputs": [
    {
     "name": "stdout",
     "output_type": "stream",
     "text": [
      "(128, 32, 32, 3)\n",
      "success rate for non target attack is: 0.84375\n"
     ]
    },
    {
     "data": {
      "text/plain": [
       "0.84375"
      ]
     },
     "execution_count": 17,
     "metadata": {},
     "output_type": "execute_result"
    }
   ],
   "source": [
    "target = None\n",
    "from attack import filter_data\n",
    "x_filtered,y_filtered = filter_data(model,x_test,y_test,target = target)\n",
    "params = {\n",
    "    \"eps\": 8/255,\n",
    "    \"target\": target,\n",
    "    \"clip_min\":0,\n",
    "    \"clip_max\":1,\n",
    "    \"batch_size\":128,\n",
    "    \"loss_type\":\"cw\",\n",
    "    \"norm\":\"linf\",\n",
    "    \"conf\":0,\n",
    "    \"alpha\":0\n",
    "}\n",
    "from attack import white_box_single_step\n",
    "adv_imgs = white_box_single_step(model,x_filtered,y_filtered,params)\n",
    "from attack import compute_success_rate\n",
    "compute_success_rate(model,adv_imgs,y_filtered, target = target)"
   ]
  }
 ],
 "metadata": {
  "kernelspec": {
   "display_name": "Python 3",
   "language": "python",
   "name": "python3"
  },
  "language_info": {
   "codemirror_mode": {
    "name": "ipython",
    "version": 3
   },
   "file_extension": ".py",
   "mimetype": "text/x-python",
   "name": "python",
   "nbconvert_exporter": "python",
   "pygments_lexer": "ipython3",
   "version": "3.5.4"
  }
 },
 "nbformat": 4,
 "nbformat_minor": 2
}
