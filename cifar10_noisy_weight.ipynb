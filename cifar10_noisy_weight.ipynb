{
 "cells": [
  {
   "cell_type": "code",
   "execution_count": 1,
   "metadata": {},
   "outputs": [
    {
     "name": "stderr",
     "output_type": "stream",
     "text": [
      "/anaconda/envs/py35/lib/python3.5/site-packages/h5py/__init__.py:36: FutureWarning: Conversion of the second argument of issubdtype from `float` to `np.floating` is deprecated. In future, it will be treated as `np.float64 == np.dtype(float).type`.\n",
      "  from ._conv import register_converters as _register_converters\n"
     ]
    }
   ],
   "source": [
    "import numpy as np\n",
    "import tensorflow as tf\n",
    "import os\n",
    "np.set_printoptions(threshold=np.nan)\n",
    "\n",
    "TRAIN = 0\n",
    "EVAL  = 1"
   ]
  },
  {
   "cell_type": "code",
   "execution_count": 2,
   "metadata": {},
   "outputs": [],
   "source": [
    "(x_train, y_train), (x_test, y_test) = tf.keras.datasets.cifar10.load_data()\n",
    "x_train = x_train/255\n",
    "x_test = x_test/255\n",
    "\n",
    "y_train = y_train.reshape([y_train.shape[0]])\n",
    "y_test = y_test.reshape([y_test.shape[0]])\n",
    "\n",
    "y_train = np.eye(10)[y_train]\n",
    "y_test = np.eye(10)[y_test]"
   ]
  },
  {
   "cell_type": "code",
   "execution_count": 3,
   "metadata": {},
   "outputs": [],
   "source": [
    "train = tf.data.Dataset.from_tensor_slices((x_train, y_train)).shuffle(buffer_size = 1280).repeat()\n",
    "train = train.batch(128)\n",
    "train_itr = train.make_initializable_iterator()\n",
    "next_batch = train_itr.get_next()"
   ]
  },
  {
   "cell_type": "code",
   "execution_count": 4,
   "metadata": {},
   "outputs": [],
   "source": [
    "# input\n",
    "x = tf.placeholder(tf.float32,[None,32,32,3])\n",
    "y_= tf.placeholder(tf.float32,[None,10])\n",
    "z = tf.placeholder(tf.float32,[1,32])\n",
    "# whether is training or not\n",
    "mode = tf.placeholder(tf.int32,[])"
   ]
  },
  {
   "cell_type": "code",
   "execution_count": 5,
   "metadata": {},
   "outputs": [],
   "source": [
    "# cross_entropy   \n",
    "def ce(y_pred, labels):\n",
    "    return tf.reduce_mean(tf.nn.softmax_cross_entropy_with_logits_v2(labels = labels ,logits = y_pred))\n",
    "\n",
    "# accuracy    \n",
    "def acc(y_pred, labels):\n",
    "    correct_prediction =tf.equal(tf.argmax(y_pred,1), tf.argmax(labels,1))\n",
    "    return tf.reduce_mean(tf.cast(correct_prediction,tf.float32),0)\n",
    "\n",
    "def noisy_conv2d(inputs,filters,kernel_size,padding,strides,activation,name,scope_name = \"conv\", noise_on_kernel = True,noise_on_bias = True):\n",
    "    print(\"in shape:\", inputs.get_shape())\n",
    "    kernel_shape = [kernel_size,kernel_size,inputs.get_shape().as_list()[-1],filters]\n",
    "    print(\"kernel shape:\", kernel_shape)\n",
    "    bias_shape = [filters]\n",
    "    kernel = tf.Variable(np.random.normal(size = kernel_shape), dtype = tf.float32, name = name + \"/kernel\")\n",
    "    bias = tf.Variable(np.random.normal(size = bias_shape), dtype = tf.float32, name = name+\"/bias\")\n",
    "\n",
    "    kernel_noise = tf.random_normal(shape = kernel_shape, stddev= 0.01)\n",
    "    bias_noise = tf.random_normal(shape = bias_shape, stddev= 0.01)\n",
    "\n",
    "    if noise_on_kernel:\n",
    "        kernel = tf.multiply(1 + kernel_noise, kernel)\n",
    "    if noise_on_bias:\n",
    "        bias = tf.multiply(1 + bias_noise, bias)\n",
    "    output = activation(tf.nn.bias_add(tf.nn.conv2d(input = inputs ,filter = kernel,strides = [1, strides, strides, 1], padding = padding, name = name),bias))\n",
    "    print(\"out shape:\", output.get_shape())\n",
    "    return output\n",
    "    \n",
    "def noisy_dense(inputs,units,activation,name,scope_name = \"conv\", noise_on_kernel = True, noise_on_bias = True):\n",
    "    kernel_shape = inputs.get_shape().as_list()[1:] + [units]\n",
    "    bias_shape = [units]\n",
    "    kernel = tf.Variable(np.random.normal(size = kernel_shape), dtype = tf.float32, name = name +\"/kernel\")\n",
    "    bias = tf.Variable(np.random.normal(size = bias_shape), dtype = tf.float32, name = name + \"/bias\")\n",
    "\n",
    "    kernel_noise = tf.random_normal(shape = kernel_shape, stddev= 0.01)\n",
    "    bias_noise = tf.random_normal(shape = bias_shape, stddev= 0.01)\n",
    "\n",
    "    if noise_on_kernel:\n",
    "        kernel = tf.multiply(1 + kernel_noise, kernel)\n",
    "    if noise_on_bias:\n",
    "        bias = tf.multiply(1 + bias_noise, bias)\n",
    "    return activation(tf.nn.bias_add(tf.matmul(inputs,kernel),bias))"
   ]
  },
  {
   "cell_type": "code",
   "execution_count": 6,
   "metadata": {},
   "outputs": [
    {
     "name": "stdout",
     "output_type": "stream",
     "text": [
      "in shape: (?, 32, 32, 3)\n",
      "kernel shape: [3, 3, 3, 64]\n",
      "out shape: (?, 30, 30, 64)\n",
      "in shape: (?, 30, 30, 64)\n",
      "kernel shape: [3, 3, 64, 64]\n",
      "out shape: (?, 28, 28, 64)\n",
      "in shape: (?, 14, 14, 64)\n",
      "kernel shape: [3, 3, 64, 128]\n",
      "out shape: (?, 12, 12, 128)\n",
      "in shape: (?, 12, 12, 128)\n",
      "kernel shape: [3, 3, 128, 128]\n",
      "out shape: (?, 10, 10, 128)\n"
     ]
    }
   ],
   "source": [
    "with tf.variable_scope(\"conv\") as scope:\n",
    "    prev_layer = x\n",
    "    prev_layer = noisy_conv2d(\n",
    "        inputs = prev_layer,\n",
    "        filters = 64,\n",
    "        kernel_size = 3,\n",
    "        padding = 'VALID',\n",
    "        strides = 1,\n",
    "        activation =tf.nn.relu,\n",
    "        name = 'conv2d_1',\n",
    "        scope_name = \"conv\"\n",
    "    )\n",
    "    prev_layer = noisy_conv2d(\n",
    "        inputs = prev_layer,\n",
    "        filters = 64,\n",
    "        kernel_size = 3,\n",
    "        padding = 'VALID',\n",
    "        strides = 1,\n",
    "        activation =tf.nn.relu,\n",
    "        name = 'conv2d_2',\n",
    "        scope_name = \"conv\"\n",
    "    )\n",
    "    prev_layer = tf.layers.max_pooling2d(\n",
    "        inputs = prev_layer,\n",
    "        pool_size = 2,\n",
    "        strides = 2\n",
    "    )\n",
    "\n",
    "\n",
    "    prev_layer = noisy_conv2d(\n",
    "        inputs = prev_layer,\n",
    "        filters = 128,\n",
    "        kernel_size = 3,\n",
    "        padding = 'VALID',\n",
    "        strides = 1,\n",
    "        activation =tf.nn.relu,\n",
    "        name = 'conv2d_3',\n",
    "        scope_name = \"conv\"\n",
    "    )\n",
    "    prev_layer = noisy_conv2d(\n",
    "        inputs = prev_layer,\n",
    "        filters = 128,\n",
    "        kernel_size = 3,\n",
    "        padding = 'VALID',\n",
    "        strides = 1,\n",
    "        activation =tf.nn.relu,\n",
    "        name = 'conv2d_4',\n",
    "        scope_name = \"conv\"\n",
    "    )\n",
    "    prev_layer = tf.layers.max_pooling2d(\n",
    "        inputs = prev_layer,\n",
    "        pool_size = 2,\n",
    "        strides = 2\n",
    "    )\n",
    "\n",
    "    prev_layer = tf.contrib.layers.flatten(prev_layer)\n",
    "    flat = prev_layer\n",
    "\n",
    "    prev_layer = noisy_dense(\n",
    "        inputs = prev_layer,\n",
    "        units = 256,\n",
    "        activation = tf.nn.relu,\n",
    "        name = 'dense_1',\n",
    "        scope_name = \"conv\"\n",
    "    )\n",
    "\n",
    "\n",
    "    prev_layer = noisy_dense(\n",
    "        inputs = prev_layer,\n",
    "        units = 256,\n",
    "        activation = tf.nn.relu,\n",
    "        name = 'dense_2',\n",
    "        scope_name = \"conv\"\n",
    "    )\n",
    "\n",
    "    logits = noisy_dense(\n",
    "        inputs = prev_layer,\n",
    "        units = 10,\n",
    "        activation = lambda t:t,\n",
    "        name = 'dense_3',\n",
    "        scope_name = \"conv\"\n",
    "    )"
   ]
  },
  {
   "cell_type": "code",
   "execution_count": 7,
   "metadata": {},
   "outputs": [],
   "source": [
    "pred = tf.nn.softmax(logits)\n",
    "loss=ce(logits, y_)\n",
    "accuracy=acc(pred, y_)\n",
    "\n",
    "theta_conv = tf.trainable_variables(\"conv\")\n",
    "conv_solver = tf.train.AdamOptimizer(learning_rate = 0.001).minimize(loss = loss)\n",
    "\n",
    "sess=tf.Session()\n",
    "sess.run(tf.global_variables_initializer())\n",
    "sess.run(train_itr.initializer)\n",
    "\n"
   ]
  },
  {
   "cell_type": "code",
   "execution_count": 8,
   "metadata": {
    "scrolled": true
   },
   "outputs": [
    {
     "name": "stdout",
     "output_type": "stream",
     "text": [
      "INFO:tensorflow:Restoring parameters from new_pretrained/model\n",
      "Step: 0, Acc: 0.8984375, Loss: 0.32035694\n",
      "Step: 100, Acc: 0.90625, Loss: 0.28543752\n",
      "Step: 200, Acc: 0.890625, Loss: 0.2890566\n",
      "Step: 300, Acc: 0.921875, Loss: 0.27164418\n",
      "Step: 400, Acc: 0.9140625, Loss: 0.18595722\n",
      "Step: 500, Acc: 0.953125, Loss: 0.16081062\n",
      "Step: 600, Acc: 0.9140625, Loss: 0.19344479\n",
      "Step: 700, Acc: 0.9453125, Loss: 0.15125254\n",
      "Step: 800, Acc: 0.9375, Loss: 0.1609797\n",
      "Step: 900, Acc: 0.9609375, Loss: 0.14664277\n",
      "Step: 1000, Acc: 0.96875, Loss: 0.1577008\n",
      "Step: 1100, Acc: 0.9609375, Loss: 0.13062288\n",
      "Step: 1200, Acc: 0.9453125, Loss: 0.12856364\n",
      "Step: 1300, Acc: 0.9765625, Loss: 0.065073796\n",
      "Step: 1400, Acc: 0.953125, Loss: 0.09892725\n",
      "Step: 1500, Acc: 0.9375, Loss: 0.14082536\n",
      "Step: 1600, Acc: 0.9765625, Loss: 0.11504892\n",
      "Step: 1700, Acc: 0.9765625, Loss: 0.047498204\n",
      "Step: 1800, Acc: 0.9921875, Loss: 0.04417516\n",
      "Step: 1900, Acc: 0.9765625, Loss: 0.05805634\n",
      "Step: 2000, Acc: 0.96875, Loss: 0.119956695\n",
      "Step: 2100, Acc: 0.9765625, Loss: 0.051306814\n",
      "Step: 2200, Acc: 0.984375, Loss: 0.07512939\n",
      "Step: 2300, Acc: 0.9453125, Loss: 0.11855584\n",
      "Step: 2400, Acc: 0.984375, Loss: 0.041688878\n",
      "Step: 2500, Acc: 0.9921875, Loss: 0.05248934\n",
      "Step: 2600, Acc: 0.953125, Loss: 0.10221283\n",
      "Step: 2700, Acc: 0.9921875, Loss: 0.044867314\n",
      "Step: 2800, Acc: 0.9609375, Loss: 0.11175123\n",
      "Step: 2900, Acc: 0.9765625, Loss: 0.08413967\n",
      "Step: 3000, Acc: 0.984375, Loss: 0.04330185\n",
      "Step: 3100, Acc: 0.9921875, Loss: 0.023008445\n",
      "Step: 3200, Acc: 0.9609375, Loss: 0.06960155\n",
      "Step: 3300, Acc: 0.9375, Loss: 0.16898929\n",
      "Step: 3400, Acc: 0.9453125, Loss: 0.10484244\n",
      "Step: 3500, Acc: 0.9765625, Loss: 0.051452897\n",
      "Step: 3600, Acc: 0.984375, Loss: 0.08231498\n",
      "Step: 3700, Acc: 0.96875, Loss: 0.044915456\n",
      "Step: 3800, Acc: 0.953125, Loss: 0.16014186\n",
      "Step: 3900, Acc: 0.9921875, Loss: 0.029346421\n",
      "Step: 4000, Acc: 0.9765625, Loss: 0.07502606\n",
      "Step: 4100, Acc: 0.9765625, Loss: 0.062092908\n",
      "Step: 4200, Acc: 0.984375, Loss: 0.04074604\n",
      "Step: 4300, Acc: 1.0, Loss: 0.018926827\n",
      "Step: 4400, Acc: 0.984375, Loss: 0.06672171\n",
      "Step: 4500, Acc: 0.984375, Loss: 0.08484398\n",
      "Step: 4600, Acc: 0.9765625, Loss: 0.08134892\n",
      "Step: 4700, Acc: 0.984375, Loss: 0.031176493\n",
      "Step: 4800, Acc: 0.984375, Loss: 0.086985745\n",
      "Step: 4900, Acc: 0.984375, Loss: 0.07447548\n",
      "Step: 5000, Acc: 1.0, Loss: 0.009769401\n",
      "Step: 5100, Acc: 0.9921875, Loss: 0.02894232\n",
      "Step: 5200, Acc: 0.9765625, Loss: 0.043325715\n",
      "Step: 5300, Acc: 0.9765625, Loss: 0.043841947\n",
      "Step: 5400, Acc: 0.984375, Loss: 0.027300859\n",
      "Step: 5500, Acc: 0.9921875, Loss: 0.01896764\n",
      "Step: 5600, Acc: 0.984375, Loss: 0.031041581\n",
      "Step: 5700, Acc: 1.0, Loss: 0.014668606\n",
      "Step: 5800, Acc: 0.984375, Loss: 0.026602449\n",
      "Step: 5900, Acc: 0.96875, Loss: 0.09755245\n",
      "Step: 6000, Acc: 1.0, Loss: 0.005901124\n",
      "Step: 6100, Acc: 0.984375, Loss: 0.0753621\n",
      "Step: 6200, Acc: 0.984375, Loss: 0.07032405\n",
      "Step: 6300, Acc: 1.0, Loss: 0.010208646\n",
      "Step: 6400, Acc: 0.9765625, Loss: 0.062247567\n",
      "Step: 6500, Acc: 0.9765625, Loss: 0.046670273\n",
      "Step: 6600, Acc: 0.984375, Loss: 0.026892563\n",
      "Step: 6700, Acc: 0.9921875, Loss: 0.019533122\n",
      "Step: 6800, Acc: 0.9765625, Loss: 0.06288617\n",
      "Step: 6900, Acc: 1.0, Loss: 0.005690978\n",
      "Step: 7000, Acc: 1.0, Loss: 0.010010829\n",
      "Step: 7100, Acc: 0.984375, Loss: 0.051688038\n",
      "Step: 7200, Acc: 0.9921875, Loss: 0.023880305\n",
      "Step: 7300, Acc: 0.9921875, Loss: 0.020847091\n",
      "Step: 7400, Acc: 0.9921875, Loss: 0.05165094\n"
     ]
    },
    {
     "ename": "KeyboardInterrupt",
     "evalue": "",
     "output_type": "error",
     "traceback": [
      "\u001b[0;31m---------------------------------------------------------------------------\u001b[0m",
      "\u001b[0;31mKeyboardInterrupt\u001b[0m                         Traceback (most recent call last)",
      "\u001b[0;32m<ipython-input-8-ac96e78d5a64>\u001b[0m in \u001b[0;36m<module>\u001b[0;34m()\u001b[0m\n\u001b[1;32m     13\u001b[0m     sess.run(conv_solver, feed_dict={x: batch[0],\n\u001b[1;32m     14\u001b[0m                                     \u001b[0my_\u001b[0m\u001b[0;34m:\u001b[0m \u001b[0mbatch\u001b[0m\u001b[0;34m[\u001b[0m\u001b[0;36m1\u001b[0m\u001b[0;34m]\u001b[0m\u001b[0;34m,\u001b[0m\u001b[0;34m\u001b[0m\u001b[0m\n\u001b[0;32m---> 15\u001b[0;31m                                     mode: TRAIN})\n\u001b[0m",
      "\u001b[0;32m/anaconda/envs/py35/lib/python3.5/site-packages/tensorflow/python/client/session.py\u001b[0m in \u001b[0;36mrun\u001b[0;34m(self, fetches, feed_dict, options, run_metadata)\u001b[0m\n\u001b[1;32m    903\u001b[0m     \u001b[0;32mtry\u001b[0m\u001b[0;34m:\u001b[0m\u001b[0;34m\u001b[0m\u001b[0m\n\u001b[1;32m    904\u001b[0m       result = self._run(None, fetches, feed_dict, options_ptr,\n\u001b[0;32m--> 905\u001b[0;31m                          run_metadata_ptr)\n\u001b[0m\u001b[1;32m    906\u001b[0m       \u001b[0;32mif\u001b[0m \u001b[0mrun_metadata\u001b[0m\u001b[0;34m:\u001b[0m\u001b[0;34m\u001b[0m\u001b[0m\n\u001b[1;32m    907\u001b[0m         \u001b[0mproto_data\u001b[0m \u001b[0;34m=\u001b[0m \u001b[0mtf_session\u001b[0m\u001b[0;34m.\u001b[0m\u001b[0mTF_GetBuffer\u001b[0m\u001b[0;34m(\u001b[0m\u001b[0mrun_metadata_ptr\u001b[0m\u001b[0;34m)\u001b[0m\u001b[0;34m\u001b[0m\u001b[0m\n",
      "\u001b[0;32m/anaconda/envs/py35/lib/python3.5/site-packages/tensorflow/python/client/session.py\u001b[0m in \u001b[0;36m_run\u001b[0;34m(self, handle, fetches, feed_dict, options, run_metadata)\u001b[0m\n\u001b[1;32m   1135\u001b[0m     \u001b[0;32mif\u001b[0m \u001b[0mfinal_fetches\u001b[0m \u001b[0;32mor\u001b[0m \u001b[0mfinal_targets\u001b[0m \u001b[0;32mor\u001b[0m \u001b[0;34m(\u001b[0m\u001b[0mhandle\u001b[0m \u001b[0;32mand\u001b[0m \u001b[0mfeed_dict_tensor\u001b[0m\u001b[0;34m)\u001b[0m\u001b[0;34m:\u001b[0m\u001b[0;34m\u001b[0m\u001b[0m\n\u001b[1;32m   1136\u001b[0m       results = self._do_run(handle, final_targets, final_fetches,\n\u001b[0;32m-> 1137\u001b[0;31m                              feed_dict_tensor, options, run_metadata)\n\u001b[0m\u001b[1;32m   1138\u001b[0m     \u001b[0;32melse\u001b[0m\u001b[0;34m:\u001b[0m\u001b[0;34m\u001b[0m\u001b[0m\n\u001b[1;32m   1139\u001b[0m       \u001b[0mresults\u001b[0m \u001b[0;34m=\u001b[0m \u001b[0;34m[\u001b[0m\u001b[0;34m]\u001b[0m\u001b[0;34m\u001b[0m\u001b[0m\n",
      "\u001b[0;32m/anaconda/envs/py35/lib/python3.5/site-packages/tensorflow/python/client/session.py\u001b[0m in \u001b[0;36m_do_run\u001b[0;34m(self, handle, target_list, fetch_list, feed_dict, options, run_metadata)\u001b[0m\n\u001b[1;32m   1353\u001b[0m     \u001b[0;32mif\u001b[0m \u001b[0mhandle\u001b[0m \u001b[0;32mis\u001b[0m \u001b[0;32mNone\u001b[0m\u001b[0;34m:\u001b[0m\u001b[0;34m\u001b[0m\u001b[0m\n\u001b[1;32m   1354\u001b[0m       return self._do_call(_run_fn, self._session, feeds, fetches, targets,\n\u001b[0;32m-> 1355\u001b[0;31m                            options, run_metadata)\n\u001b[0m\u001b[1;32m   1356\u001b[0m     \u001b[0;32melse\u001b[0m\u001b[0;34m:\u001b[0m\u001b[0;34m\u001b[0m\u001b[0m\n\u001b[1;32m   1357\u001b[0m       \u001b[0;32mreturn\u001b[0m \u001b[0mself\u001b[0m\u001b[0;34m.\u001b[0m\u001b[0m_do_call\u001b[0m\u001b[0;34m(\u001b[0m\u001b[0m_prun_fn\u001b[0m\u001b[0;34m,\u001b[0m \u001b[0mself\u001b[0m\u001b[0;34m.\u001b[0m\u001b[0m_session\u001b[0m\u001b[0;34m,\u001b[0m \u001b[0mhandle\u001b[0m\u001b[0;34m,\u001b[0m \u001b[0mfeeds\u001b[0m\u001b[0;34m,\u001b[0m \u001b[0mfetches\u001b[0m\u001b[0;34m)\u001b[0m\u001b[0;34m\u001b[0m\u001b[0m\n",
      "\u001b[0;32m/anaconda/envs/py35/lib/python3.5/site-packages/tensorflow/python/client/session.py\u001b[0m in \u001b[0;36m_do_call\u001b[0;34m(self, fn, *args)\u001b[0m\n\u001b[1;32m   1359\u001b[0m   \u001b[0;32mdef\u001b[0m \u001b[0m_do_call\u001b[0m\u001b[0;34m(\u001b[0m\u001b[0mself\u001b[0m\u001b[0;34m,\u001b[0m \u001b[0mfn\u001b[0m\u001b[0;34m,\u001b[0m \u001b[0;34m*\u001b[0m\u001b[0margs\u001b[0m\u001b[0;34m)\u001b[0m\u001b[0;34m:\u001b[0m\u001b[0;34m\u001b[0m\u001b[0m\n\u001b[1;32m   1360\u001b[0m     \u001b[0;32mtry\u001b[0m\u001b[0;34m:\u001b[0m\u001b[0;34m\u001b[0m\u001b[0m\n\u001b[0;32m-> 1361\u001b[0;31m       \u001b[0;32mreturn\u001b[0m \u001b[0mfn\u001b[0m\u001b[0;34m(\u001b[0m\u001b[0;34m*\u001b[0m\u001b[0margs\u001b[0m\u001b[0;34m)\u001b[0m\u001b[0;34m\u001b[0m\u001b[0m\n\u001b[0m\u001b[1;32m   1362\u001b[0m     \u001b[0;32mexcept\u001b[0m \u001b[0merrors\u001b[0m\u001b[0;34m.\u001b[0m\u001b[0mOpError\u001b[0m \u001b[0;32mas\u001b[0m \u001b[0me\u001b[0m\u001b[0;34m:\u001b[0m\u001b[0;34m\u001b[0m\u001b[0m\n\u001b[1;32m   1363\u001b[0m       \u001b[0mmessage\u001b[0m \u001b[0;34m=\u001b[0m \u001b[0mcompat\u001b[0m\u001b[0;34m.\u001b[0m\u001b[0mas_text\u001b[0m\u001b[0;34m(\u001b[0m\u001b[0me\u001b[0m\u001b[0;34m.\u001b[0m\u001b[0mmessage\u001b[0m\u001b[0;34m)\u001b[0m\u001b[0;34m\u001b[0m\u001b[0m\n",
      "\u001b[0;32m/anaconda/envs/py35/lib/python3.5/site-packages/tensorflow/python/client/session.py\u001b[0m in \u001b[0;36m_run_fn\u001b[0;34m(session, feed_dict, fetch_list, target_list, options, run_metadata)\u001b[0m\n\u001b[1;32m   1338\u001b[0m         \u001b[0;32melse\u001b[0m\u001b[0;34m:\u001b[0m\u001b[0;34m\u001b[0m\u001b[0m\n\u001b[1;32m   1339\u001b[0m           return tf_session.TF_Run(session, options, feed_dict, fetch_list,\n\u001b[0;32m-> 1340\u001b[0;31m                                    target_list, status, run_metadata)\n\u001b[0m\u001b[1;32m   1341\u001b[0m \u001b[0;34m\u001b[0m\u001b[0m\n\u001b[1;32m   1342\u001b[0m     \u001b[0;32mdef\u001b[0m \u001b[0m_prun_fn\u001b[0m\u001b[0;34m(\u001b[0m\u001b[0msession\u001b[0m\u001b[0;34m,\u001b[0m \u001b[0mhandle\u001b[0m\u001b[0;34m,\u001b[0m \u001b[0mfeed_dict\u001b[0m\u001b[0;34m,\u001b[0m \u001b[0mfetch_list\u001b[0m\u001b[0;34m)\u001b[0m\u001b[0;34m:\u001b[0m\u001b[0;34m\u001b[0m\u001b[0m\n",
      "\u001b[0;31mKeyboardInterrupt\u001b[0m: "
     ]
    }
   ],
   "source": [
    "saver = tf.train.Saver(var_list = theta_conv)\n",
    "saver.restore(sess,\"new_pretrained/model\")\n",
    "for i in range(0,10000):\n",
    "    batch=sess.run(next_batch)\n",
    "    if i%100==0:\n",
    "        acc_batch, loss_batch = sess.run([accuracy, loss], feed_dict={x: batch[0], \n",
    "                                                                      y_: batch[1],\n",
    "                                                                      mode : EVAL\n",
    "                                                                     }\n",
    "                                        )\n",
    "        print(\"Step: %s, Acc: %s, Loss: %s\"%(i,acc_batch, loss_batch))\n",
    "        \n",
    "    sess.run(conv_solver, feed_dict={x: batch[0],\n",
    "                                    y_: batch[1],\n",
    "                                    mode: TRAIN})"
   ]
  },
  {
   "cell_type": "code",
   "execution_count": 10,
   "metadata": {},
   "outputs": [
    {
     "name": "stdout",
     "output_type": "stream",
     "text": [
      "Final accuracy on test set: 0.7991999924182893\n"
     ]
    }
   ],
   "source": [
    "FINAL_ACC=0.\n",
    "for i in range(0,10):\n",
    "    FINAL_ACC+=0.1*sess.run(accuracy, feed_dict={x: x_test[i*1000:(i+1)*1000], y_: y_test[i*1000:(i+1)*1000], mode: EVAL})   \n",
    "print(\"Final accuracy on test set:\", FINAL_ACC)"
   ]
  },
  {
   "cell_type": "code",
   "execution_count": null,
   "metadata": {},
   "outputs": [],
   "source": [
    "X = None\n",
    "for i in range(0,1):\n",
    "    if i == 0:\n",
    "        X = sess.run(flat, feed_dict={x: x_test[i*1000:(i+1)*1000], y_: y_test[i*1000:(i+1)*1000], mode: EVAL}) \n",
    "    else:\n",
    "        X = np.concatenate((X,sess.run(flat, feed_dict={x: x_test[i*1000:(i+1)*1000], y_: y_test[i*1000:(i+1)*1000], mode: EVAL})), axis = 0)\n",
    "    print(X.shape)"
   ]
  },
  {
   "cell_type": "code",
   "execution_count": null,
   "metadata": {},
   "outputs": [],
   "source": [
    "from sklearn.manifold import TSNE\n",
    "import matplotlib.pyplot as plt\n",
    "colors = [i*25 for i in np.argmax(y_test[0:1000], axis = 1)]\n",
    "\n",
    "embedding = TSNE(n_components=2).fit_transform(X)\n",
    "plt.scatter(embedding[:,0],embedding[:,1], c = colors )"
   ]
  },
  {
   "cell_type": "code",
   "execution_count": null,
   "metadata": {},
   "outputs": [],
   "source": [
    "from sklearn.decomposition import PCA\n",
    "import matplotlib.pyplot as plt\n",
    "colors = [i*25 for i in np.argmax(y_test[0:1000], axis = 1)]\n",
    "#print(colors)\n",
    "embedding = PCA(n_components=2).fit_transform(X)\n",
    "plt.scatter(embedding[:,0],embedding[:,1], c = colors )"
   ]
  },
  {
   "cell_type": "code",
   "execution_count": null,
   "metadata": {},
   "outputs": [],
   "source": [
    "\n",
    "test_pred = sess.run(pred, feed_dict={x: x_test[0:1], y_: y_test[0:1], mode: EVAL}) \n",
    "test_logits = sess.run(logits, feed_dict={x: x_test[0:1], y_: y_test[0:1], mode: EVAL})\n",
    "print(test_logits)\n",
    "print(test_pred)\n",
    "print(y_test[0])"
   ]
  },
  {
   "cell_type": "code",
   "execution_count": null,
   "metadata": {},
   "outputs": [],
   "source": [
    "test_pred = sess.run(pred, feed_dict={x: x_test[0:1], y_: y_test[0:1], mode: EVAL}) \n",
    "test_logits = sess.run(logits, feed_dict={x: x_test[0:1], y_: y_test[0:1], mode: EVAL})\n",
    "print(test_logits)\n",
    "print(test_pred)\n",
    "print(y_test[0])"
   ]
  },
  {
   "cell_type": "code",
   "execution_count": null,
   "metadata": {},
   "outputs": [],
   "source": []
  },
  {
   "cell_type": "code",
   "execution_count": null,
   "metadata": {},
   "outputs": [],
   "source": []
  }
 ],
 "metadata": {
  "kernelspec": {
   "display_name": "Python 3",
   "language": "python",
   "name": "python3"
  },
  "language_info": {
   "codemirror_mode": {
    "name": "ipython",
    "version": 3
   },
   "file_extension": ".py",
   "mimetype": "text/x-python",
   "name": "python",
   "nbconvert_exporter": "python",
   "pygments_lexer": "ipython3",
   "version": "3.5.4"
  }
 },
 "nbformat": 4,
 "nbformat_minor": 2
}
